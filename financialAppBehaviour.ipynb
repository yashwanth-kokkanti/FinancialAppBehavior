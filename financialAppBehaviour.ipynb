{
  "nbformat": 4,
  "nbformat_minor": 0,
  "metadata": {
    "accelerator": "GPU",
    "colab": {
      "name": "financialAppBehaviour.ipynb",
      "provenance": [],
      "authorship_tag": "ABX9TyPteBbnGJM9fhyRsECSK10q",
      "include_colab_link": true
    },
    "kernelspec": {
      "display_name": "Python 3",
      "name": "python3"
    }
  },
  "cells": [
    {
      "cell_type": "markdown",
      "metadata": {
        "id": "view-in-github",
        "colab_type": "text"
      },
      "source": [
        "<a href=\"https://colab.research.google.com/github/yashwanth-kokkanti/FinancialAppBehavior/blob/main/financialAppBehaviour.ipynb\" target=\"_parent\"><img src=\"https://colab.research.google.com/assets/colab-badge.svg\" alt=\"Open In Colab\"/></a>"
      ]
    },
    {
      "cell_type": "code",
      "metadata": {
        "colab": {
          "base_uri": "https://localhost:8080/",
          "height": 137
        },
        "id": "91NOCj_IhoyP",
        "outputId": "f9c73d78-a14d-4709-ac5b-fcad4403fab9"
      },
      "source": [
        "''' \r\n",
        "\r\n",
        "In this Machine Learning end to end project, we are working on financial application data and predict the customer who will take a premium version app subscription or not. \r\n",
        "Then the company will take action on the customers to give the offers or not. The data contain the customer’s behavior and our job to find the insights from it.\r\n",
        "\r\n",
        "''' \r\n",
        "\r\n",
        "### Business Problem\r\n",
        "\r\n",
        "'''\r\n",
        "\r\n",
        "The Financial Technology company (Fin-Tech Company) launch there a mobile app. This app used for financial purposes like bank loans, savings, etc. in one place. \r\n",
        "It has two versions free and premium. \r\n",
        "The free version app contains basic features and customer wants to use the premium feature then they have to pay some amount to unlock it.\r\n",
        "\r\n",
        "The main goal of the company is to sell the premium version app with low advertisement cost but they don’t know how to do it. \r\n",
        "That’s a reason they are provided the premium feature in the free version app for 24 hours to collect the customer’s behavior. \r\n",
        "After that, the company hired the Machine Learning Engineer to find insight from the collected data (customer’s behavior).\r\n",
        "\r\n",
        "The job of the ML engineer is to find or predict new customer who is interested to buy the product or not. \r\n",
        "If the customers will buy a product anyway so no need to give an offer to that customer and loss the business. \r\n",
        "Only give offers to those customers who are interested to use premium version app but they can’t afford its cost. \r\n",
        "So the company will give offers to those customers and earn more money.\r\n",
        "\r\n",
        "'''\r\n"
      ],
      "execution_count": 1,
      "outputs": [
        {
          "output_type": "execute_result",
          "data": {
            "application/vnd.google.colaboratory.intrinsic+json": {
              "type": "string"
            },
            "text/plain": [
              "'\\n\\nThe Financial Technology company (Fin-Tech Company) launch there a mobile app. This app used for financial purposes like bank loans, savings, etc. in one place. \\nIt has two versions free and premium. \\nThe free version app contains basic features and customer wants to use the premium feature then they have to pay some amount to unlock it.\\n\\nThe main goal of the company is to sell the premium version app with low advertisement cost but they don’t know how to do it. \\nThat’s a reason they are provided the premium feature in the free version app for 24 hours to collect the customer’s behavior. \\nAfter that, the company hired the Machine Learning Engineer to find insight from the collected data (customer’s behavior).\\n\\nThe job of the ML engineer is to find or predict new customer who is interested to buy the product or not. \\nIf the customers will buy a product anyway so no need to give an offer to that customer and loss the business. \\nOnly give offers to those customers who are interested to use premium version app but they can’t afford its cost. \\nSo the company will give offers to those customers and earn more money.\\n\\n'"
            ]
          },
          "metadata": {
            "tags": []
          },
          "execution_count": 1
        }
      ]
    },
    {
      "cell_type": "code",
      "metadata": {
        "id": "RE4WZXmgkPey"
      },
      "source": [
        "## Lets start \r\n",
        "\r\n",
        "import numpy as np\r\n",
        "import pandas as pd\r\n",
        "import matplotlib.pyplot as plt\r\n",
        "import seaborn as sns\r\n"
      ],
      "execution_count": 2,
      "outputs": []
    },
    {
      "cell_type": "code",
      "metadata": {
        "id": "X9RW-it-keLR"
      },
      "source": [
        "fineTech_appData = pd.read_csv(\"/content/FineTech_appData.csv\")"
      ],
      "execution_count": 3,
      "outputs": []
    },
    {
      "cell_type": "code",
      "metadata": {
        "colab": {
          "base_uri": "https://localhost:8080/"
        },
        "id": "3mJkgHzQlIuI",
        "outputId": "d2bf7aa6-db49-4f16-d149-e57929e88f57"
      },
      "source": [
        "fineTech_appData.shape"
      ],
      "execution_count": 4,
      "outputs": [
        {
          "output_type": "execute_result",
          "data": {
            "text/plain": [
              "(50000, 12)"
            ]
          },
          "metadata": {
            "tags": []
          },
          "execution_count": 4
        }
      ]
    },
    {
      "cell_type": "code",
      "metadata": {
        "colab": {
          "base_uri": "https://localhost:8080/",
          "height": 346
        },
        "id": "Flc684VslK7y",
        "outputId": "9be781dc-99a0-4ce1-dd6e-2546df17b236"
      },
      "source": [
        "fineTech_appData.head(6)"
      ],
      "execution_count": 5,
      "outputs": [
        {
          "output_type": "execute_result",
          "data": {
            "text/html": [
              "<div>\n",
              "<style scoped>\n",
              "    .dataframe tbody tr th:only-of-type {\n",
              "        vertical-align: middle;\n",
              "    }\n",
              "\n",
              "    .dataframe tbody tr th {\n",
              "        vertical-align: top;\n",
              "    }\n",
              "\n",
              "    .dataframe thead th {\n",
              "        text-align: right;\n",
              "    }\n",
              "</style>\n",
              "<table border=\"1\" class=\"dataframe\">\n",
              "  <thead>\n",
              "    <tr style=\"text-align: right;\">\n",
              "      <th></th>\n",
              "      <th>user</th>\n",
              "      <th>first_open</th>\n",
              "      <th>dayofweek</th>\n",
              "      <th>hour</th>\n",
              "      <th>age</th>\n",
              "      <th>screen_list</th>\n",
              "      <th>numscreens</th>\n",
              "      <th>minigame</th>\n",
              "      <th>used_premium_feature</th>\n",
              "      <th>enrolled</th>\n",
              "      <th>enrolled_date</th>\n",
              "      <th>liked</th>\n",
              "    </tr>\n",
              "  </thead>\n",
              "  <tbody>\n",
              "    <tr>\n",
              "      <th>0</th>\n",
              "      <td>235136</td>\n",
              "      <td>2012-12-27 02:14:51.273</td>\n",
              "      <td>3</td>\n",
              "      <td>02:00:00</td>\n",
              "      <td>23</td>\n",
              "      <td>idscreen,joinscreen,Cycle,product_review,ScanP...</td>\n",
              "      <td>15</td>\n",
              "      <td>0</td>\n",
              "      <td>0</td>\n",
              "      <td>0</td>\n",
              "      <td>NaN</td>\n",
              "      <td>0</td>\n",
              "    </tr>\n",
              "    <tr>\n",
              "      <th>1</th>\n",
              "      <td>333588</td>\n",
              "      <td>2012-12-02 01:16:00.905</td>\n",
              "      <td>6</td>\n",
              "      <td>01:00:00</td>\n",
              "      <td>24</td>\n",
              "      <td>joinscreen,product_review,product_review2,Scan...</td>\n",
              "      <td>13</td>\n",
              "      <td>0</td>\n",
              "      <td>0</td>\n",
              "      <td>0</td>\n",
              "      <td>NaN</td>\n",
              "      <td>0</td>\n",
              "    </tr>\n",
              "    <tr>\n",
              "      <th>2</th>\n",
              "      <td>254414</td>\n",
              "      <td>2013-03-19 19:19:09.157</td>\n",
              "      <td>1</td>\n",
              "      <td>19:00:00</td>\n",
              "      <td>23</td>\n",
              "      <td>Splash,Cycle,Loan</td>\n",
              "      <td>3</td>\n",
              "      <td>0</td>\n",
              "      <td>1</td>\n",
              "      <td>0</td>\n",
              "      <td>NaN</td>\n",
              "      <td>1</td>\n",
              "    </tr>\n",
              "    <tr>\n",
              "      <th>3</th>\n",
              "      <td>234192</td>\n",
              "      <td>2013-07-05 16:08:46.354</td>\n",
              "      <td>4</td>\n",
              "      <td>16:00:00</td>\n",
              "      <td>28</td>\n",
              "      <td>product_review,Home,product_review,Loan3,Finan...</td>\n",
              "      <td>40</td>\n",
              "      <td>0</td>\n",
              "      <td>0</td>\n",
              "      <td>1</td>\n",
              "      <td>2013-07-05 16:11:49.513</td>\n",
              "      <td>0</td>\n",
              "    </tr>\n",
              "    <tr>\n",
              "      <th>4</th>\n",
              "      <td>51549</td>\n",
              "      <td>2013-02-26 18:50:48.661</td>\n",
              "      <td>1</td>\n",
              "      <td>18:00:00</td>\n",
              "      <td>31</td>\n",
              "      <td>idscreen,joinscreen,Cycle,Credit3Container,Sca...</td>\n",
              "      <td>32</td>\n",
              "      <td>0</td>\n",
              "      <td>0</td>\n",
              "      <td>1</td>\n",
              "      <td>2013-02-26 18:56:37.841</td>\n",
              "      <td>1</td>\n",
              "    </tr>\n",
              "    <tr>\n",
              "      <th>5</th>\n",
              "      <td>56480</td>\n",
              "      <td>2013-04-03 09:58:15.752</td>\n",
              "      <td>2</td>\n",
              "      <td>09:00:00</td>\n",
              "      <td>20</td>\n",
              "      <td>idscreen,Cycle,Home,ScanPreview,VerifyPhone,Ve...</td>\n",
              "      <td>14</td>\n",
              "      <td>0</td>\n",
              "      <td>0</td>\n",
              "      <td>1</td>\n",
              "      <td>2013-04-03 09:59:03.291</td>\n",
              "      <td>0</td>\n",
              "    </tr>\n",
              "  </tbody>\n",
              "</table>\n",
              "</div>"
            ],
            "text/plain": [
              "     user               first_open  ...            enrolled_date liked\n",
              "0  235136  2012-12-27 02:14:51.273  ...                      NaN     0\n",
              "1  333588  2012-12-02 01:16:00.905  ...                      NaN     0\n",
              "2  254414  2013-03-19 19:19:09.157  ...                      NaN     1\n",
              "3  234192  2013-07-05 16:08:46.354  ...  2013-07-05 16:11:49.513     0\n",
              "4   51549  2013-02-26 18:50:48.661  ...  2013-02-26 18:56:37.841     1\n",
              "5   56480  2013-04-03 09:58:15.752  ...  2013-04-03 09:59:03.291     0\n",
              "\n",
              "[6 rows x 12 columns]"
            ]
          },
          "metadata": {
            "tags": []
          },
          "execution_count": 5
        }
      ]
    },
    {
      "cell_type": "code",
      "metadata": {
        "colab": {
          "base_uri": "https://localhost:8080/",
          "height": 531
        },
        "id": "dgqCy8iplNZR",
        "outputId": "d6ae92fd-6576-4a93-d2bb-49f54c87563d"
      },
      "source": [
        "## Screen list has Text Data \r\n",
        "## enrolled_data has Null Values\r\n",
        "## Liked, enrolled, used_premium_feature and dayofweek is a categorical with 0 and 1 \r\n",
        "\r\n",
        "\r\n",
        "fineTech_appData.tail(10)"
      ],
      "execution_count": 6,
      "outputs": [
        {
          "output_type": "execute_result",
          "data": {
            "text/html": [
              "<div>\n",
              "<style scoped>\n",
              "    .dataframe tbody tr th:only-of-type {\n",
              "        vertical-align: middle;\n",
              "    }\n",
              "\n",
              "    .dataframe tbody tr th {\n",
              "        vertical-align: top;\n",
              "    }\n",
              "\n",
              "    .dataframe thead th {\n",
              "        text-align: right;\n",
              "    }\n",
              "</style>\n",
              "<table border=\"1\" class=\"dataframe\">\n",
              "  <thead>\n",
              "    <tr style=\"text-align: right;\">\n",
              "      <th></th>\n",
              "      <th>user</th>\n",
              "      <th>first_open</th>\n",
              "      <th>dayofweek</th>\n",
              "      <th>hour</th>\n",
              "      <th>age</th>\n",
              "      <th>screen_list</th>\n",
              "      <th>numscreens</th>\n",
              "      <th>minigame</th>\n",
              "      <th>used_premium_feature</th>\n",
              "      <th>enrolled</th>\n",
              "      <th>enrolled_date</th>\n",
              "      <th>liked</th>\n",
              "    </tr>\n",
              "  </thead>\n",
              "  <tbody>\n",
              "    <tr>\n",
              "      <th>49990</th>\n",
              "      <td>179308</td>\n",
              "      <td>2013-05-25 17:30:47.675</td>\n",
              "      <td>5</td>\n",
              "      <td>17:00:00</td>\n",
              "      <td>20</td>\n",
              "      <td>Splash,idscreen,Cycle,Home,product_review,prod...</td>\n",
              "      <td>8</td>\n",
              "      <td>0</td>\n",
              "      <td>0</td>\n",
              "      <td>1</td>\n",
              "      <td>2013-05-26 06:33:54.237</td>\n",
              "      <td>1</td>\n",
              "    </tr>\n",
              "    <tr>\n",
              "      <th>49991</th>\n",
              "      <td>85532</td>\n",
              "      <td>2013-02-01 22:33:59.502</td>\n",
              "      <td>4</td>\n",
              "      <td>22:00:00</td>\n",
              "      <td>45</td>\n",
              "      <td>Splash,Cycle,Home,Loan2,Loan1,MLWebView,Instit...</td>\n",
              "      <td>30</td>\n",
              "      <td>1</td>\n",
              "      <td>1</td>\n",
              "      <td>1</td>\n",
              "      <td>2013-02-01 22:35:36.750</td>\n",
              "      <td>0</td>\n",
              "    </tr>\n",
              "    <tr>\n",
              "      <th>49992</th>\n",
              "      <td>96155</td>\n",
              "      <td>2013-02-03 15:41:52.059</td>\n",
              "      <td>6</td>\n",
              "      <td>15:00:00</td>\n",
              "      <td>50</td>\n",
              "      <td>idscreen,joinscreen,product_review,product_rev...</td>\n",
              "      <td>28</td>\n",
              "      <td>0</td>\n",
              "      <td>0</td>\n",
              "      <td>1</td>\n",
              "      <td>2013-02-03 15:43:43.163</td>\n",
              "      <td>0</td>\n",
              "    </tr>\n",
              "    <tr>\n",
              "      <th>49993</th>\n",
              "      <td>343026</td>\n",
              "      <td>2012-11-24 02:02:56.012</td>\n",
              "      <td>5</td>\n",
              "      <td>02:00:00</td>\n",
              "      <td>28</td>\n",
              "      <td>joinscreen,product_review,product_review2,Scan...</td>\n",
              "      <td>4</td>\n",
              "      <td>0</td>\n",
              "      <td>0</td>\n",
              "      <td>0</td>\n",
              "      <td>NaN</td>\n",
              "      <td>1</td>\n",
              "    </tr>\n",
              "    <tr>\n",
              "      <th>49994</th>\n",
              "      <td>90813</td>\n",
              "      <td>2013-02-25 19:35:12.691</td>\n",
              "      <td>0</td>\n",
              "      <td>19:00:00</td>\n",
              "      <td>36</td>\n",
              "      <td>idscreen,joinscreen,Cycle,product_review,produ...</td>\n",
              "      <td>25</td>\n",
              "      <td>0</td>\n",
              "      <td>0</td>\n",
              "      <td>1</td>\n",
              "      <td>2013-02-25 19:36:56.082</td>\n",
              "      <td>0</td>\n",
              "    </tr>\n",
              "    <tr>\n",
              "      <th>49995</th>\n",
              "      <td>222774</td>\n",
              "      <td>2013-05-09 13:46:17.871</td>\n",
              "      <td>3</td>\n",
              "      <td>13:00:00</td>\n",
              "      <td>32</td>\n",
              "      <td>Splash,Home,ScanPreview,VerifyPhone,VerifySSN,...</td>\n",
              "      <td>13</td>\n",
              "      <td>0</td>\n",
              "      <td>0</td>\n",
              "      <td>1</td>\n",
              "      <td>2013-05-09 13:47:52.875</td>\n",
              "      <td>0</td>\n",
              "    </tr>\n",
              "    <tr>\n",
              "      <th>49996</th>\n",
              "      <td>169179</td>\n",
              "      <td>2013-04-09 00:05:17.823</td>\n",
              "      <td>1</td>\n",
              "      <td>00:00:00</td>\n",
              "      <td>35</td>\n",
              "      <td>Cycle,Splash,Home,RewardsContainer</td>\n",
              "      <td>4</td>\n",
              "      <td>0</td>\n",
              "      <td>1</td>\n",
              "      <td>0</td>\n",
              "      <td>NaN</td>\n",
              "      <td>0</td>\n",
              "    </tr>\n",
              "    <tr>\n",
              "      <th>49997</th>\n",
              "      <td>302367</td>\n",
              "      <td>2013-02-20 22:41:51.165</td>\n",
              "      <td>2</td>\n",
              "      <td>22:00:00</td>\n",
              "      <td>39</td>\n",
              "      <td>joinscreen,product_review,product_review2,Scan...</td>\n",
              "      <td>25</td>\n",
              "      <td>0</td>\n",
              "      <td>0</td>\n",
              "      <td>0</td>\n",
              "      <td>NaN</td>\n",
              "      <td>0</td>\n",
              "    </tr>\n",
              "    <tr>\n",
              "      <th>49998</th>\n",
              "      <td>324905</td>\n",
              "      <td>2013-04-28 12:33:04.288</td>\n",
              "      <td>6</td>\n",
              "      <td>12:00:00</td>\n",
              "      <td>27</td>\n",
              "      <td>Cycle,Home,product_review,product_review,produ...</td>\n",
              "      <td>26</td>\n",
              "      <td>0</td>\n",
              "      <td>0</td>\n",
              "      <td>1</td>\n",
              "      <td>2013-04-28 12:35:38.709</td>\n",
              "      <td>0</td>\n",
              "    </tr>\n",
              "    <tr>\n",
              "      <th>49999</th>\n",
              "      <td>27047</td>\n",
              "      <td>2012-12-14 01:22:44.638</td>\n",
              "      <td>4</td>\n",
              "      <td>01:00:00</td>\n",
              "      <td>25</td>\n",
              "      <td>product_review,ScanPreview,VerifyDateOfBirth,V...</td>\n",
              "      <td>26</td>\n",
              "      <td>0</td>\n",
              "      <td>0</td>\n",
              "      <td>0</td>\n",
              "      <td>NaN</td>\n",
              "      <td>1</td>\n",
              "    </tr>\n",
              "  </tbody>\n",
              "</table>\n",
              "</div>"
            ],
            "text/plain": [
              "         user               first_open  ...            enrolled_date liked\n",
              "49990  179308  2013-05-25 17:30:47.675  ...  2013-05-26 06:33:54.237     1\n",
              "49991   85532  2013-02-01 22:33:59.502  ...  2013-02-01 22:35:36.750     0\n",
              "49992   96155  2013-02-03 15:41:52.059  ...  2013-02-03 15:43:43.163     0\n",
              "49993  343026  2012-11-24 02:02:56.012  ...                      NaN     1\n",
              "49994   90813  2013-02-25 19:35:12.691  ...  2013-02-25 19:36:56.082     0\n",
              "49995  222774  2013-05-09 13:46:17.871  ...  2013-05-09 13:47:52.875     0\n",
              "49996  169179  2013-04-09 00:05:17.823  ...                      NaN     0\n",
              "49997  302367  2013-02-20 22:41:51.165  ...                      NaN     0\n",
              "49998  324905  2013-04-28 12:33:04.288  ...  2013-04-28 12:35:38.709     0\n",
              "49999   27047  2012-12-14 01:22:44.638  ...                      NaN     1\n",
              "\n",
              "[10 rows x 12 columns]"
            ]
          },
          "metadata": {
            "tags": []
          },
          "execution_count": 6
        }
      ]
    },
    {
      "cell_type": "code",
      "metadata": {
        "colab": {
          "base_uri": "https://localhost:8080/"
        },
        "id": "4xFUbuekl_hR",
        "outputId": "7e38254d-f554-479f-fac0-c4ad11cc1020"
      },
      "source": [
        "## Looks like mostly First_Open and Enrolled Date are equal . \r\n",
        "\r\n",
        "## Let us check some data in Screen_list \r\n",
        "\r\n",
        "for i in range(5):\r\n",
        "  print (fineTech_appData.loc[i, 'screen_list'], '\\n')"
      ],
      "execution_count": 7,
      "outputs": [
        {
          "output_type": "stream",
          "text": [
            "idscreen,joinscreen,Cycle,product_review,ScanPreview,VerifyDateOfBirth,VerifyPhone,VerifyToken,ProfileVerifySSN,Loan2,Settings,ForgotPassword,Login \n",
            "\n",
            "joinscreen,product_review,product_review2,ScanPreview,VerifyDateOfBirth,location,VerifyCountry,VerifyPhone,VerifyToken,Institutions,Loan2 \n",
            "\n",
            "Splash,Cycle,Loan \n",
            "\n",
            "product_review,Home,product_review,Loan3,Finances,Credit3,ReferralContainer,Leaderboard,Rewards,RewardDetail,ScanPreview,location,VerifyDateOfBirth,VerifyPhone,VerifySSN,Credit1,Credit2 \n",
            "\n",
            "idscreen,joinscreen,Cycle,Credit3Container,ScanPreview,VerifyPhone,VerifySSN,Credit1,Loan2,Home,Institutions,SelectInstitution,BankVerification,ReferralContainer,product_review,product_review2,VerifyCountry,VerifyToken,product_review \n",
            "\n"
          ],
          "name": "stdout"
        }
      ]
    },
    {
      "cell_type": "code",
      "metadata": {
        "id": "sow1WoA1mlNU"
      },
      "source": [
        "## This column says the screens customer navigated is what I understood. \r\n",
        "\r\n"
      ],
      "execution_count": 8,
      "outputs": []
    },
    {
      "cell_type": "code",
      "metadata": {
        "colab": {
          "base_uri": "https://localhost:8080/",
          "height": 154
        },
        "id": "2eGTzPAqm429",
        "outputId": "46eaff76-64cd-401f-b79a-f58d3f479e0f"
      },
      "source": [
        "## Let us deep dive into Data.  Here is the brief description about columns \r\n",
        "\r\n",
        "''' \r\n",
        "1. user: Unique ID for each user.\r\n",
        "\r\n",
        "2. first_open: Date (yy-mm-dd) and time (Hour:Minute:Seconds:Milliseconds) of login on app first time.\r\n",
        "\r\n",
        "3. dayofweek: On which day user logon.\r\n",
        "\r\n",
        "0: Sunday\r\n",
        "1: Monday\r\n",
        "2: Tuesday\r\n",
        "3: Wednesday\r\n",
        "4: Thursday\r\n",
        "5: Friday\r\n",
        "6: Saturday\r\n",
        "\r\n",
        "4. Hour: Time of a day in 24-hour format customer logon. It is correlated with dayofweek column.\r\n",
        "\r\n",
        "5. age: The age of the registered user.\r\n",
        "\r\n",
        "6. screen_list: The name of multiple screens seen by customers, which are separated by a comma.\r\n",
        "\r\n",
        "7. numscreens: The total number of screens seen by customers.\r\n",
        "\r\n",
        "8. minigame: Tha app contains small games related to finance. If the customer played mini-game then 1 otherwise 0.\r\n",
        "\r\n",
        "9. used_premium_feature: If the customer used the premium feature of the app then 1 otherwise 0.\r\n",
        "\r\n",
        "10. enrolled: If the user bought a premium feature app then 1 otherwise 0.\r\n",
        "\r\n",
        "11. enrolled_date: On the date (yy-mm-dd) and time (Hour:Minute:Seconds:Milliseconds) the user bought a premium features app.\r\n",
        "\r\n",
        "12. liked: The each screen of the app has a like button if the customer likes it then 1 otherwise 0.\r\n",
        "\r\n",
        "''' \r\n",
        "\r\n"
      ],
      "execution_count": 9,
      "outputs": [
        {
          "output_type": "execute_result",
          "data": {
            "application/vnd.google.colaboratory.intrinsic+json": {
              "type": "string"
            },
            "text/plain": [
              "' \\n1. user: Unique ID for each user.\\n\\n2. first_open: Date (yy-mm-dd) and time (Hour:Minute:Seconds:Milliseconds) of login on app first time.\\n\\n3. dayofweek: On which day user logon.\\n\\n0: Sunday\\n1: Monday\\n2: Tuesday\\n3: Wednesday\\n4: Thursday\\n5: Friday\\n6: Saturday\\n\\n4. Hour: Time of a day in 24-hour format customer logon. It is correlated with dayofweek column.\\n\\n5. age: The age of the registered user.\\n\\n6. screen_list: The name of multiple screens seen by customers, which are separated by a comma.\\n\\n7. numscreens: The total number of screens seen by customers.\\n\\n8. minigame: Tha app contains small games related to finance. If the customer played mini-game then 1 otherwise 0.\\n\\n9. used_premium_feature: If the customer used the premium feature of the app then 1 otherwise 0.\\n\\n10. enrolled: If the user bought a premium feature app then 1 otherwise 0.\\n\\n11. enrolled_date: On the date (yy-mm-dd) and time (Hour:Minute:Seconds:Milliseconds) the user bought a premium features app.\\n\\n12. liked: The each screen of the app has a like button if the customer likes it then 1 otherwise 0.\\n\\n'"
            ]
          },
          "metadata": {
            "tags": []
          },
          "execution_count": 9
        }
      ]
    },
    {
      "cell_type": "code",
      "metadata": {
        "colab": {
          "base_uri": "https://localhost:8080/"
        },
        "id": "y-eSaDMhnxQ7",
        "outputId": "c70b6b0d-8b4b-4579-83f4-adb53573f02d"
      },
      "source": [
        "## Let us check null values in data set \r\n",
        "\r\n",
        "fineTech_appData.isnull().sum()"
      ],
      "execution_count": 10,
      "outputs": [
        {
          "output_type": "execute_result",
          "data": {
            "text/plain": [
              "user                        0\n",
              "first_open                  0\n",
              "dayofweek                   0\n",
              "hour                        0\n",
              "age                         0\n",
              "screen_list                 0\n",
              "numscreens                  0\n",
              "minigame                    0\n",
              "used_premium_feature        0\n",
              "enrolled                    0\n",
              "enrolled_date           18926\n",
              "liked                       0\n",
              "dtype: int64"
            ]
          },
          "metadata": {
            "tags": []
          },
          "execution_count": 10
        }
      ]
    },
    {
      "cell_type": "code",
      "metadata": {
        "colab": {
          "base_uri": "https://localhost:8080/"
        },
        "id": "569JCNkln3-5",
        "outputId": "7a6b6024-3748-4a92-ceca-c5db2f0b4c1c"
      },
      "source": [
        "## Enrolled_date has lots of null values 18926\r\n",
        "\r\n",
        "fineTech_appData.info()"
      ],
      "execution_count": 11,
      "outputs": [
        {
          "output_type": "stream",
          "text": [
            "<class 'pandas.core.frame.DataFrame'>\n",
            "RangeIndex: 50000 entries, 0 to 49999\n",
            "Data columns (total 12 columns):\n",
            " #   Column                Non-Null Count  Dtype \n",
            "---  ------                --------------  ----- \n",
            " 0   user                  50000 non-null  int64 \n",
            " 1   first_open            50000 non-null  object\n",
            " 2   dayofweek             50000 non-null  int64 \n",
            " 3   hour                  50000 non-null  object\n",
            " 4   age                   50000 non-null  int64 \n",
            " 5   screen_list           50000 non-null  object\n",
            " 6   numscreens            50000 non-null  int64 \n",
            " 7   minigame              50000 non-null  int64 \n",
            " 8   used_premium_feature  50000 non-null  int64 \n",
            " 9   enrolled              50000 non-null  int64 \n",
            " 10  enrolled_date         31074 non-null  object\n",
            " 11  liked                 50000 non-null  int64 \n",
            "dtypes: int64(8), object(4)\n",
            "memory usage: 4.6+ MB\n"
          ],
          "name": "stdout"
        }
      ]
    },
    {
      "cell_type": "code",
      "metadata": {
        "colab": {
          "base_uri": "https://localhost:8080/",
          "height": 52
        },
        "id": "2-3zwpmDoI3H",
        "outputId": "cb7ddab8-05fe-4995-be6f-ec4727679dcf"
      },
      "source": [
        "''' \r\n",
        "All columns have 50,000 non-null values except enrolled_date. It has 31,074 non-null. \r\n",
        "There is a total of 8 columns that contain integer 64 bit (int64) values and the remaining 4 are object (text/date) type.\r\n",
        "\r\n",
        "'''\r\n",
        "\r\n",
        "fineTech_appData.describe()\r\n",
        "\r\n",
        "'''\r\n",
        "The mean age of the customer is 31.72. Only 10.7% of customers played minigame and \r\n",
        "17.2% customer used premium features of the app, likes 16.5 %. The 62.1% customer enrolled in the premium app.\r\n",
        "\r\n",
        "'''"
      ],
      "execution_count": 12,
      "outputs": [
        {
          "output_type": "execute_result",
          "data": {
            "application/vnd.google.colaboratory.intrinsic+json": {
              "type": "string"
            },
            "text/plain": [
              "'\\nThe mean age of the customer is 31.72. Only 10.7% of customers played minigame and \\n17.2% customer used premium features of the app, likes 16.5 %. The 62.1% customer enrolled in the premium app.\\n\\n'"
            ]
          },
          "metadata": {
            "tags": []
          },
          "execution_count": 12
        }
      ]
    },
    {
      "cell_type": "code",
      "metadata": {
        "colab": {
          "base_uri": "https://localhost:8080/"
        },
        "id": "yWPAIWKjoosw",
        "outputId": "358c2111-7034-491e-e9e9-8b3066b534f6"
      },
      "source": [
        "## Let us try to get the unique values of each features and its length \r\n",
        "\r\n",
        "features = fineTech_appData.columns\r\n",
        "\r\n",
        "for i in features:\r\n",
        "  print('Unique value of {} \\n {} \\n length is {} \\n ...'.format(i, fineTech_appData[i].unique(), len(fineTech_appData[i].unique())))"
      ],
      "execution_count": 13,
      "outputs": [
        {
          "output_type": "stream",
          "text": [
            "Unique value of user \n",
            " [235136 333588 254414 ... 302367 324905  27047] \n",
            " length is 49874 \n",
            " ...\n",
            "Unique value of first_open \n",
            " ['2012-12-27 02:14:51.273' '2012-12-02 01:16:00.905'\n",
            " '2013-03-19 19:19:09.157' ... '2013-02-20 22:41:51.165'\n",
            " '2013-04-28 12:33:04.288' '2012-12-14 01:22:44.638'] \n",
            " length is 49747 \n",
            " ...\n",
            "Unique value of dayofweek \n",
            " [3 6 1 4 2 0 5] \n",
            " length is 7 \n",
            " ...\n",
            "Unique value of hour \n",
            " [' 02:00:00' ' 01:00:00' ' 19:00:00' ' 16:00:00' ' 18:00:00' ' 09:00:00'\n",
            " ' 03:00:00' ' 14:00:00' ' 04:00:00' ' 11:00:00' ' 06:00:00' ' 21:00:00'\n",
            " ' 05:00:00' ' 17:00:00' ' 20:00:00' ' 00:00:00' ' 22:00:00' ' 10:00:00'\n",
            " ' 08:00:00' ' 15:00:00' ' 13:00:00' ' 23:00:00' ' 12:00:00' ' 07:00:00'] \n",
            " length is 24 \n",
            " ...\n",
            "Unique value of age \n",
            " [ 23  24  28  31  20  35  26  29  39  32  25  17  21  55  38  27  48  37\n",
            "  22  36  30  58  40  33  57  19  45  34  46  56  42  43  41  47  18  53\n",
            "  44  49  60  50  52  62  63  16  54  70  51  69  68  59  76  75  66  61\n",
            "  72  65  90  64  67  73  77  71  74  89  78  86  80  82  79  87  81  85\n",
            " 101  88  83 100  84  98] \n",
            " length is 78 \n",
            " ...\n",
            "Unique value of screen_list \n",
            " ['idscreen,joinscreen,Cycle,product_review,ScanPreview,VerifyDateOfBirth,VerifyPhone,VerifyToken,ProfileVerifySSN,Loan2,Settings,ForgotPassword,Login'\n",
            " 'joinscreen,product_review,product_review2,ScanPreview,VerifyDateOfBirth,location,VerifyCountry,VerifyPhone,VerifyToken,Institutions,Loan2'\n",
            " 'Splash,Cycle,Loan' ...\n",
            " 'joinscreen,product_review,product_review2,ScanPreview,VerifyCountry,VerifyPhone,VerifyToken,VerifyDateOfBirth,location,Home'\n",
            " 'Cycle,Home,product_review,product_review,product_review3,ScanPreview,VerifyDateOfBirth,location,VerifyCountry,VerifyPhone,VerifyToken,product_review,product_review,VerifySSN,product_review,SelectInstitution,BankVerification,product_review,product_review'\n",
            " 'product_review,ScanPreview,VerifyDateOfBirth,VerifyCountry,ProfileVerifySSN,ProfilePage,ProfileEducation,ProfileEducationMajor,Saving2Amount,Saving8,ProfileMaritalStatus,ProfileChildren,Saving2,Saving9,Saving7,Saving6,Saving5,Home,Loan2'] \n",
            " length is 38799 \n",
            " ...\n",
            "Unique value of numscreens \n",
            " [ 15  13   3  40  32  14  41  33  19  25  11   4   9  26   6  20   5   8\n",
            "  42   1  38  49  35  10  52  50  76  37  16  47  90  24  45  31  39  17\n",
            "  28  27  57  23  21  12   7  18  48  29 136  34  59  89  22  43  36  56\n",
            "  30   2  44  92  51  70  58  66  46  55  61  75  71  78  85  62  53  54\n",
            "  73  68  69  63  64  88 106  80 127  74  72 137  83  77  65 104  60  67\n",
            "  94  81 110  91  82  96 165  79  86 116  99  98 187  84 111 109 107 162\n",
            "  97 100  95  87 122 216 115 102 128 234 112 108 114 125 119  93 185 192\n",
            " 189 153 243 103 101 118 325 141 129 133 126 120 123 134 121 105 113 117\n",
            " 200 247 179 132 144 130 148] \n",
            " length is 151 \n",
            " ...\n",
            "Unique value of minigame \n",
            " [0 1] \n",
            " length is 2 \n",
            " ...\n",
            "Unique value of used_premium_feature \n",
            " [0 1] \n",
            " length is 2 \n",
            " ...\n",
            "Unique value of enrolled \n",
            " [0 1] \n",
            " length is 2 \n",
            " ...\n",
            "Unique value of enrolled_date \n",
            " [nan '2013-07-05 16:11:49.513' '2013-02-26 18:56:37.841' ...\n",
            " '2013-02-25 19:36:56.082' '2013-05-09 13:47:52.875'\n",
            " '2013-04-28 12:35:38.709'] \n",
            " length is 31002 \n",
            " ...\n",
            "Unique value of liked \n",
            " [0 1] \n",
            " length is 2 \n",
            " ...\n"
          ],
          "name": "stdout"
        }
      ]
    },
    {
      "cell_type": "code",
      "metadata": {
        "colab": {
          "base_uri": "https://localhost:8080/"
        },
        "id": "2Dslrid7prJu",
        "outputId": "7ce7be2f-e322-41fd-b322-c81e711bdee5"
      },
      "source": [
        "''' From above it is clear that dayoftheweek is covering 7 days and hour is covering all 24 hours '''\r\n",
        "\r\n",
        "## The ‘hour’ column contains object data type, so we converted into integer data type format.\r\n",
        "\r\n",
        "fineTech_appData['hour'] = fineTech_appData.hour.str.slice(1, 3).astype(int) ## slice 1-3 because it has one space at the starting\r\n",
        "\r\n",
        "fineTech_appData.dtypes"
      ],
      "execution_count": 14,
      "outputs": [
        {
          "output_type": "execute_result",
          "data": {
            "text/plain": [
              "user                     int64\n",
              "first_open              object\n",
              "dayofweek                int64\n",
              "hour                     int64\n",
              "age                      int64\n",
              "screen_list             object\n",
              "numscreens               int64\n",
              "minigame                 int64\n",
              "used_premium_feature     int64\n",
              "enrolled                 int64\n",
              "enrolled_date           object\n",
              "liked                    int64\n",
              "dtype: object"
            ]
          },
          "metadata": {
            "tags": []
          },
          "execution_count": 14
        }
      ]
    },
    {
      "cell_type": "code",
      "metadata": {
        "colab": {
          "base_uri": "https://localhost:8080/",
          "height": 225
        },
        "id": "nDfn7VRdqauO",
        "outputId": "4ebf5d60-f3d1-4118-c237-aa8bf3f4f1cd"
      },
      "source": [
        "## To visualize the data need numeric values for that we drop some columns that datatype is the object.\r\n",
        "\r\n",
        "fineTech_appData2 = fineTech_appData.drop(['user', 'first_open', 'screen_list', 'enrolled_date'], axis = 1)\r\n",
        "\r\n",
        "fineTech_appData2.head(6)\r\n"
      ],
      "execution_count": 15,
      "outputs": [
        {
          "output_type": "execute_result",
          "data": {
            "text/html": [
              "<div>\n",
              "<style scoped>\n",
              "    .dataframe tbody tr th:only-of-type {\n",
              "        vertical-align: middle;\n",
              "    }\n",
              "\n",
              "    .dataframe tbody tr th {\n",
              "        vertical-align: top;\n",
              "    }\n",
              "\n",
              "    .dataframe thead th {\n",
              "        text-align: right;\n",
              "    }\n",
              "</style>\n",
              "<table border=\"1\" class=\"dataframe\">\n",
              "  <thead>\n",
              "    <tr style=\"text-align: right;\">\n",
              "      <th></th>\n",
              "      <th>dayofweek</th>\n",
              "      <th>hour</th>\n",
              "      <th>age</th>\n",
              "      <th>numscreens</th>\n",
              "      <th>minigame</th>\n",
              "      <th>used_premium_feature</th>\n",
              "      <th>enrolled</th>\n",
              "      <th>liked</th>\n",
              "    </tr>\n",
              "  </thead>\n",
              "  <tbody>\n",
              "    <tr>\n",
              "      <th>0</th>\n",
              "      <td>3</td>\n",
              "      <td>2</td>\n",
              "      <td>23</td>\n",
              "      <td>15</td>\n",
              "      <td>0</td>\n",
              "      <td>0</td>\n",
              "      <td>0</td>\n",
              "      <td>0</td>\n",
              "    </tr>\n",
              "    <tr>\n",
              "      <th>1</th>\n",
              "      <td>6</td>\n",
              "      <td>1</td>\n",
              "      <td>24</td>\n",
              "      <td>13</td>\n",
              "      <td>0</td>\n",
              "      <td>0</td>\n",
              "      <td>0</td>\n",
              "      <td>0</td>\n",
              "    </tr>\n",
              "    <tr>\n",
              "      <th>2</th>\n",
              "      <td>1</td>\n",
              "      <td>19</td>\n",
              "      <td>23</td>\n",
              "      <td>3</td>\n",
              "      <td>0</td>\n",
              "      <td>1</td>\n",
              "      <td>0</td>\n",
              "      <td>1</td>\n",
              "    </tr>\n",
              "    <tr>\n",
              "      <th>3</th>\n",
              "      <td>4</td>\n",
              "      <td>16</td>\n",
              "      <td>28</td>\n",
              "      <td>40</td>\n",
              "      <td>0</td>\n",
              "      <td>0</td>\n",
              "      <td>1</td>\n",
              "      <td>0</td>\n",
              "    </tr>\n",
              "    <tr>\n",
              "      <th>4</th>\n",
              "      <td>1</td>\n",
              "      <td>18</td>\n",
              "      <td>31</td>\n",
              "      <td>32</td>\n",
              "      <td>0</td>\n",
              "      <td>0</td>\n",
              "      <td>1</td>\n",
              "      <td>1</td>\n",
              "    </tr>\n",
              "    <tr>\n",
              "      <th>5</th>\n",
              "      <td>2</td>\n",
              "      <td>9</td>\n",
              "      <td>20</td>\n",
              "      <td>14</td>\n",
              "      <td>0</td>\n",
              "      <td>0</td>\n",
              "      <td>1</td>\n",
              "      <td>0</td>\n",
              "    </tr>\n",
              "  </tbody>\n",
              "</table>\n",
              "</div>"
            ],
            "text/plain": [
              "   dayofweek  hour  age  ...  used_premium_feature  enrolled  liked\n",
              "0          3     2   23  ...                     0         0      0\n",
              "1          6     1   24  ...                     0         0      0\n",
              "2          1    19   23  ...                     1         0      1\n",
              "3          4    16   28  ...                     0         1      0\n",
              "4          1    18   31  ...                     0         1      1\n",
              "5          2     9   20  ...                     0         1      0\n",
              "\n",
              "[6 rows x 8 columns]"
            ]
          },
          "metadata": {
            "tags": []
          },
          "execution_count": 15
        }
      ]
    },
    {
      "cell_type": "code",
      "metadata": {
        "colab": {
          "base_uri": "https://localhost:8080/",
          "height": 580
        },
        "id": "ceor2fNjrY_G",
        "outputId": "a5844ae7-8917-48df-decc-83aa81407474"
      },
      "source": [
        "### Data Visualization \r\n",
        "\r\n",
        "# Plot HeatMap using Correlation matrix \r\n",
        "\r\n",
        "plt.figure(figsize=(16,9))\r\n",
        "sns.heatmap(fineTech_appData2.corr(), cmap='coolwarm', annot=True)\r\n",
        "plt.title('HeatMap Using Correlation Matrix of the FineTech_AppData ', fontsize=25)"
      ],
      "execution_count": 16,
      "outputs": [
        {
          "output_type": "execute_result",
          "data": {
            "text/plain": [
              "Text(0.5, 1.0, 'HeatMap Using Correlation Matrix of the FineTech_AppData ')"
            ]
          },
          "metadata": {
            "tags": []
          },
          "execution_count": 16
        },
        {
          "output_type": "display_data",
          "data": {
            "image/png": "[encoded data removed]",
            "text/plain": [
              "<Figure size 1152x648 with 2 Axes>"
            ]
          },
          "metadata": {
            "tags": [],
            "needs_background": "light"
          }
        }
      ]
    },
    {
      "cell_type": "code",
      "metadata": {
        "colab": {
          "base_uri": "https://localhost:8080/",
          "height": 1000
        },
        "id": "SxTV_SA6r5_4",
        "outputId": "862c3e38-d733-4e39-8a71-a07f4233dfe7"
      },
      "source": [
        "## Age and Numscreens are negatively related ==> aged people are not navigating more screens it seems.\r\n",
        "## enrolled and numscreens are little positively correlated ==> If navigated mor screens then there is chance of enorolling\r\n",
        "\r\n",
        "\r\n",
        "\r\n",
        "## Let us check for pairplot \r\n",
        "\r\n",
        "%time\r\n",
        "sns.pairplot(fineTech_appData2, hue='enrolled')"
      ],
      "execution_count": 17,
      "outputs": [
        {
          "output_type": "stream",
          "text": [
            "CPU times: user 2 µs, sys: 0 ns, total: 2 µs\n",
            "Wall time: 5.25 µs\n"
          ],
          "name": "stdout"
        },
        {
          "output_type": "execute_result",
          "data": {
            "text/plain": [
              "<seaborn.axisgrid.PairGrid at 0x7ff5f7530d68>"
            ]
          },
          "metadata": {
            "tags": []
          },
          "execution_count": 17
        },
        {
          "output_type": "display_data",
          "data": {
            "image/png": "[encoded data removed]",
            "text/plain": [
              "<Figure size 1308.62x1260 with 56 Axes>"
            ]
          },
          "metadata": {
            "tags": [],
            "needs_background": "light"
          }
        }
      ]
    },
    {
      "cell_type": "code",
      "metadata": {
        "colab": {
          "base_uri": "https://localhost:8080/",
          "height": 383
        },
        "id": "t9zEYGBts7A6",
        "outputId": "7db74b14-5671-4f0b-88e1-37a4a1c12320"
      },
      "source": [
        "## Count of Enrolled \r\n",
        "%time\r\n",
        "sns.countplot(fineTech_appData.enrolled)\r\n",
        "\r\n"
      ],
      "execution_count": 18,
      "outputs": [
        {
          "output_type": "stream",
          "text": [
            "CPU times: user 3 µs, sys: 0 ns, total: 3 µs\n",
            "Wall time: 5.96 µs\n"
          ],
          "name": "stdout"
        },
        {
          "output_type": "stream",
          "text": [
            "/usr/local/lib/python3.6/dist-packages/seaborn/_decorators.py:43: FutureWarning: Pass the following variable as a keyword arg: x. From version 0.12, the only valid positional argument will be `data`, and passing other arguments without an explicit keyword will result in an error or misinterpretation.\n",
            "  FutureWarning\n"
          ],
          "name": "stderr"
        },
        {
          "output_type": "execute_result",
          "data": {
            "text/plain": [
              "<matplotlib.axes._subplots.AxesSubplot at 0x7ff5f1165ef0>"
            ]
          },
          "metadata": {
            "tags": []
          },
          "execution_count": 18
        },
        {
          "output_type": "display_data",
          "data": {
            "image/png": "[encoded data removed]",
            "text/plain": [
              "<Figure size 432x288 with 1 Axes>"
            ]
          },
          "metadata": {
            "tags": [],
            "needs_background": "light"
          }
        }
      ]
    },
    {
      "cell_type": "code",
      "metadata": {
        "colab": {
          "base_uri": "https://localhost:8080/"
        },
        "id": "FRnX4qIatFJB",
        "outputId": "8dbeaba8-f492-4ae6-9e1a-ada5d303f715"
      },
      "source": [
        "## Let us check for class distribution of enrolled and not-enrolled in exact numbers\r\n",
        "\r\n",
        "# value enrolled and not enrolled customers\r\n",
        "\r\n",
        "print(\"Not enrolled user = \", (fineTech_appData.enrolled < 1).sum(), \"out of 50000\") ## < 1 is due to one row goes for column names\r\n",
        "print(\"Enrolled user = \",50000-(fineTech_appData.enrolled < 1).sum(),  \"out of 50000\")"
      ],
      "execution_count": 19,
      "outputs": [
        {
          "output_type": "stream",
          "text": [
            "Not enrolled user =  18926 out of 50000\n",
            "Enrolled user =  31074 out of 50000\n"
          ],
          "name": "stdout"
        }
      ]
    },
    {
      "cell_type": "code",
      "metadata": {
        "colab": {
          "base_uri": "https://localhost:8080/",
          "height": 589
        },
        "id": "Bvw97Mg3uxp0",
        "outputId": "dc4d9614-ce0c-4361-d45b-5c1dcd27b961"
      },
      "source": [
        "## Clearly this is imbalanced data set \r\n",
        "\r\n",
        "## Let us plot Histogrom of each column indivitually \r\n",
        "\r\n",
        "%time \r\n",
        "\r\n",
        "plt.figure(figsize=(16, 9))\r\n",
        "\r\n",
        "features = fineTech_appData2.columns\r\n",
        "\r\n",
        "for i,j in enumerate(features):\r\n",
        "  plt.subplot(3, 3, i+1)\r\n",
        "  plt.title('Histogram of {}'.format(j), fontsize=15)\r\n",
        "\r\n",
        "  bins = len(fineTech_appData2[j].unique())\r\n",
        "  plt.hist(fineTech_appData2[j], bins=bins, rwidth=0.8, edgecolor=\"y\", linewidth=2)\r\n",
        "\r\n",
        "plt.subplots_adjust(hspace=0.5)"
      ],
      "execution_count": 20,
      "outputs": [
        {
          "output_type": "stream",
          "text": [
            "CPU times: user 1e+03 ns, sys: 0 ns, total: 1e+03 ns\n",
            "Wall time: 3.81 µs\n"
          ],
          "name": "stdout"
        },
        {
          "output_type": "display_data",
          "data": {
            "image/png": "[encoded data removed]",
            "text/plain": [
              "<Figure size 1152x648 with 8 Axes>"
            ]
          },
          "metadata": {
            "tags": [],
            "needs_background": "light"
          }
        }
      ]
    },
    {
      "cell_type": "code",
      "metadata": {
        "colab": {
          "base_uri": "https://localhost:8080/",
          "height": 69
        },
        "id": "XNmkZymgv3q0",
        "outputId": "78e39a01-fd29-4498-f43f-e90069f65c08"
      },
      "source": [
        "## Observations \r\n",
        "\r\n",
        "''' \r\n",
        "1. The histogram of ‘dayofweek’ shows, on Tuesday and Wednesday slightly fewer customer registered the app.\r\n",
        "2. The histogram of ‘hour’ shows the less customer register on the app around 10 (+/- 3 hours around 10 )AM.\r\n",
        "3. The ‘age’ histogram shows, the maximum customers are younger.(of age 25-28)\r\n",
        "4. The ‘numsreens’ histogram shows the few customers saw more than 40 screens.\r\n",
        "\r\n",
        "'''\r\n"
      ],
      "execution_count": 21,
      "outputs": [
        {
          "output_type": "execute_result",
          "data": {
            "application/vnd.google.colaboratory.intrinsic+json": {
              "type": "string"
            },
            "text/plain": [
              "' \\n1. The histogram of ‘dayofweek’ shows, on Tuesday and Wednesday slightly fewer customer registered the app.\\n2. The histogram of ‘hour’ shows the less customer register on the app around 10 (+/- 3 hours around 10 )AM.\\n3. The ‘age’ histogram shows, the maximum customers are younger.(of age 25-28)\\n4. The ‘numsreens’ histogram shows the few customers saw more than 40 screens.\\n\\n'"
            ]
          },
          "metadata": {
            "tags": []
          },
          "execution_count": 21
        }
      ]
    },
    {
      "cell_type": "code",
      "metadata": {
        "colab": {
          "base_uri": "https://localhost:8080/",
          "height": 462
        },
        "id": "tHUUD53wxA7y",
        "outputId": "93c8f99a-57d4-407f-8f7b-e6e4ee2311ca"
      },
      "source": [
        "## Correlation Bar PLot with Enrolled Feature \r\n",
        "\r\n",
        "sns.set() \r\n",
        "\r\n",
        "plt.figure(figsize = (14,5))\r\n",
        "plt.title(\"Correlation all features with 'enrolled' \", fontsize = 20)\r\n",
        "\r\n",
        "fineTech_appData3 = fineTech_appData2.drop(['enrolled'], axis = 1) \r\n",
        "\r\n",
        "ax =sns.barplot(fineTech_appData3.columns,fineTech_appData3.corrwith(fineTech_appData2.enrolled))\r\n",
        "ax.tick_params(labelsize=15, labelrotation = 20, color =\"k\") "
      ],
      "execution_count": 22,
      "outputs": [
        {
          "output_type": "stream",
          "text": [
            "/usr/local/lib/python3.6/dist-packages/seaborn/_decorators.py:43: FutureWarning: Pass the following variables as keyword args: x, y. From version 0.12, the only valid positional argument will be `data`, and passing other arguments without an explicit keyword will result in an error or misinterpretation.\n",
            "  FutureWarning\n"
          ],
          "name": "stderr"
        },
        {
          "output_type": "display_data",
          "data": {
            "image/png": "[encoded data removed]",
            "text/plain": [
              "<Figure size 1008x360 with 1 Axes>"
            ]
          },
          "metadata": {
            "tags": []
          }
        }
      ]
    },
    {
      "cell_type": "code",
      "metadata": {
        "id": "FyXOsZ6sxMI3"
      },
      "source": [
        "## This shows FEw columns are negatively corelated with Enrolled like age, hour  and others are positively correlated\r\n"
      ],
      "execution_count": 23,
      "outputs": []
    },
    {
      "cell_type": "code",
      "metadata": {
        "colab": {
          "base_uri": "https://localhost:8080/"
        },
        "id": "UsFxHCZvx7hA",
        "outputId": "4b84726c-f9fc-4fc3-a7ae-1ae51a817ee6"
      },
      "source": [
        "## Now Let us Parse datetiem columns (first_open and enrolled_date ) from object to datetime format \r\n",
        "\r\n",
        "from dateutil import parser\r\n",
        "\r\n",
        "fineTech_appData['first_open'] = [parser.parse(i) for i in fineTech_appData['first_open']]\r\n",
        "\r\n",
        "fineTech_appData['enrolled_date'] =[parser.parse(i) if isinstance(i, str) else i for i in fineTech_appData['enrolled_date']]\r\n",
        " \r\n",
        "fineTech_appData.dtypes\r\n"
      ],
      "execution_count": 24,
      "outputs": [
        {
          "output_type": "execute_result",
          "data": {
            "text/plain": [
              "user                             int64\n",
              "first_open              datetime64[ns]\n",
              "dayofweek                        int64\n",
              "hour                             int64\n",
              "age                              int64\n",
              "screen_list                     object\n",
              "numscreens                       int64\n",
              "minigame                         int64\n",
              "used_premium_feature             int64\n",
              "enrolled                         int64\n",
              "enrolled_date           datetime64[ns]\n",
              "liked                            int64\n",
              "dtype: object"
            ]
          },
          "metadata": {
            "tags": []
          },
          "execution_count": 24
        }
      ]
    },
    {
      "cell_type": "code",
      "metadata": {
        "colab": {
          "base_uri": "https://localhost:8080/",
          "height": 352
        },
        "id": "dFjnyscTypzi",
        "outputId": "438edb7e-e88c-4eb2-8499-69bfc20810bd"
      },
      "source": [
        "## We can create a new column on how much time taken by customer to get enrolled in the premium feature \r\n",
        "## for that enrolled_date - first_open will work \r\n",
        "\r\n",
        "fineTech_appData['time_to_enrolled'] = (fineTech_appData.enrolled_date - fineTech_appData.first_open).astype('timedelta64[h]')\r\n",
        "\r\n",
        "\r\n",
        "# Let us plot the Histogram of new column . Time_to_enrolled \r\n",
        "\r\n",
        "plt.hist(fineTech_appData['time_to_enrolled'].dropna())"
      ],
      "execution_count": 25,
      "outputs": [
        {
          "output_type": "execute_result",
          "data": {
            "text/plain": [
              "(array([2.8195e+04, 1.0320e+03, 5.6700e+02, 4.2500e+02, 2.8800e+02,\n",
              "        1.7900e+02, 1.6500e+02, 9.7000e+01, 1.0400e+02, 2.2000e+01]),\n",
              " array([   0. ,  543.4, 1086.8, 1630.2, 2173.6, 2717. , 3260.4, 3803.8,\n",
              "        4347.2, 4890.6, 5434. ]),\n",
              " <a list of 10 Patch objects>)"
            ]
          },
          "metadata": {
            "tags": []
          },
          "execution_count": 25
        },
        {
          "output_type": "display_data",
          "data": {
            "image/png": "[encoded data removed]",
            "text/plain": [
              "<Figure size 432x288 with 1 Axes>"
            ]
          },
          "metadata": {
            "tags": []
          }
        }
      ]
    },
    {
      "cell_type": "code",
      "metadata": {
        "colab": {
          "base_uri": "https://localhost:8080/",
          "height": 335
        },
        "id": "j6wqwSBLzYsI",
        "outputId": "3aa2794d-b287-46a7-999f-e20476e1674e"
      },
      "source": [
        "## Lets try to show the distribution in between 0 to 100 hours \r\n",
        "\r\n",
        "plt.hist(fineTech_appData['time_to_enrolled'].dropna(), range = (0,100))"
      ],
      "execution_count": 26,
      "outputs": [
        {
          "output_type": "execute_result",
          "data": {
            "text/plain": [
              "(array([22793.,   755.,   707.,   288.,   347.,   210.,   187.,   212.,\n",
              "          135.,   194.]),\n",
              " array([  0.,  10.,  20.,  30.,  40.,  50.,  60.,  70.,  80.,  90., 100.]),\n",
              " <a list of 10 Patch objects>)"
            ]
          },
          "metadata": {
            "tags": []
          },
          "execution_count": 26
        },
        {
          "output_type": "display_data",
          "data": {
            "image/png": "[encoded data removed]",
            "text/plain": [
              "<Figure size 432x288 with 1 Axes>"
            ]
          },
          "metadata": {
            "tags": []
          }
        }
      ]
    },
    {
      "cell_type": "code",
      "metadata": {
        "id": "JMf-QBLrzq1s"
      },
      "source": [
        "## So mostly its less than 10 hours . and there are few numbers with more than 20 hours which look like outliers \r\n",
        "## Because no one can spend more than \r\n",
        "\r\n",
        "\r\n",
        "## Let us consider those customers have enrolled after 48 hours as 0\r\n",
        "\r\n",
        "fineTech_appData.loc[fineTech_appData.time_to_enrolled > 48, 'enrolled'] = 0\r\n",
        "\r\n"
      ],
      "execution_count": 27,
      "outputs": []
    },
    {
      "cell_type": "code",
      "metadata": {
        "id": "9FaORPsk2O3S"
      },
      "source": [
        "## Few columns like ‘time_to_enrolled’, ‘enrolled_date’, ‘first_open’  are not strongly correlated to the result. So let us Drop them\r\n",
        "\r\n",
        "\r\n",
        "fineTech_appData.drop(columns = ['time_to_enrolled', 'enrolled_date', 'first_open'], inplace=True)"
      ],
      "execution_count": 28,
      "outputs": []
    },
    {
      "cell_type": "code",
      "metadata": {
        "colab": {
          "base_uri": "https://localhost:8080/"
        },
        "id": "7V4ul--E2a7U",
        "outputId": "da9f7570-1482-456f-cdf0-e1da5d4baac8"
      },
      "source": [
        "## Let us read another csv file that contains top screens data \r\n",
        "\r\n",
        "fineTech_app_screen_Data = pd.read_csv(\"/content/top_screens.csv\").top_screens.values\r\n",
        " \r\n",
        "fineTech_app_screen_Data"
      ],
      "execution_count": 29,
      "outputs": [
        {
          "output_type": "execute_result",
          "data": {
            "text/plain": [
              "array(['Loan2', 'location', 'Institutions', 'Credit3Container',\n",
              "       'VerifyPhone', 'BankVerification', 'VerifyDateOfBirth',\n",
              "       'ProfilePage', 'VerifyCountry', 'Cycle', 'idscreen',\n",
              "       'Credit3Dashboard', 'Loan3', 'CC1Category', 'Splash', 'Loan',\n",
              "       'CC1', 'RewardsContainer', 'Credit3', 'Credit1', 'EditProfile',\n",
              "       'Credit2', 'Finances', 'CC3', 'Saving9', 'Saving1', 'Alerts',\n",
              "       'Saving8', 'Saving10', 'Leaderboard', 'Saving4', 'VerifyMobile',\n",
              "       'VerifyHousing', 'RewardDetail', 'VerifyHousingAmount',\n",
              "       'ProfileMaritalStatus', 'ProfileChildren ', 'ProfileEducation',\n",
              "       'Saving7', 'ProfileEducationMajor', 'Rewards', 'AccountView',\n",
              "       'VerifyAnnualIncome', 'VerifyIncomeType', 'Saving2', 'Saving6',\n",
              "       'Saving2Amount', 'Saving5', 'ProfileJobTitle', 'Login',\n",
              "       'ProfileEmploymentLength', 'WebView', 'SecurityModal', 'Loan4',\n",
              "       'ResendToken', 'TransactionList', 'NetworkFailure', 'ListPicker'],\n",
              "      dtype=object)"
            ]
          },
          "metadata": {
            "tags": []
          },
          "execution_count": 29
        }
      ]
    },
    {
      "cell_type": "code",
      "metadata": {
        "id": "z2n_n5Gr2rxn"
      },
      "source": [
        "## Add ‘,’ at the end of each string of ‘screen_list’ to create new columns with each screen \r\n",
        "\r\n",
        "fineTech_appData['screen_list'] = fineTech_appData.screen_list.astype(str) + ','\r\n"
      ],
      "execution_count": 30,
      "outputs": []
    },
    {
      "cell_type": "code",
      "metadata": {
        "colab": {
          "base_uri": "https://localhost:8080/",
          "height": 215
        },
        "id": "4_QdvZo-3Vku",
        "outputId": "252a9fa0-3652-4da8-a526-d509fd2a1e1f"
      },
      "source": [
        "## Creating new feature as below \r\n",
        "\r\n",
        "'''\r\n",
        "The ‘Screen_list’ contains string values but we can’t use it directly. \r\n",
        "So to solve this problem we are taking each screen name from ‘fineTech_app_screen_Data’ and append as a column \r\n",
        "by the same name to ‘fineTech_appData’. \r\n",
        "\r\n",
        "Then check this screen name is available in ‘screen_list’ if it is available then add value 1 else 0 in the appended column.\r\n",
        "'''\r\n",
        "\r\n",
        "\r\n",
        "for screen_name in fineTech_app_screen_Data:\r\n",
        "    fineTech_appData[screen_name] = fineTech_appData.screen_list.str.contains(screen_name).astype(int)  ## PLace 1 if screen name contains else 0\r\n",
        "    fineTech_appData['screen_list'] = fineTech_appData.screen_list.str.replace(screen_name+\",\", \"\") ## Remove Screen_Name in the row data\r\n",
        "\r\n",
        "fineTech_appData.head(5)"
      ],
      "execution_count": 31,
      "outputs": [
        {
          "output_type": "execute_result",
          "data": {
            "text/html": [
              "<div>\n",
              "<style scoped>\n",
              "    .dataframe tbody tr th:only-of-type {\n",
              "        vertical-align: middle;\n",
              "    }\n",
              "\n",
              "    .dataframe tbody tr th {\n",
              "        vertical-align: top;\n",
              "    }\n",
              "\n",
              "    .dataframe thead th {\n",
              "        text-align: right;\n",
              "    }\n",
              "</style>\n",
              "<table border=\"1\" class=\"dataframe\">\n",
              "  <thead>\n",
              "    <tr style=\"text-align: right;\">\n",
              "      <th></th>\n",
              "      <th>user</th>\n",
              "      <th>dayofweek</th>\n",
              "      <th>hour</th>\n",
              "      <th>age</th>\n",
              "      <th>screen_list</th>\n",
              "      <th>numscreens</th>\n",
              "      <th>minigame</th>\n",
              "      <th>used_premium_feature</th>\n",
              "      <th>enrolled</th>\n",
              "      <th>liked</th>\n",
              "      <th>Loan2</th>\n",
              "      <th>location</th>\n",
              "      <th>Institutions</th>\n",
              "      <th>Credit3Container</th>\n",
              "      <th>VerifyPhone</th>\n",
              "      <th>BankVerification</th>\n",
              "      <th>VerifyDateOfBirth</th>\n",
              "      <th>ProfilePage</th>\n",
              "      <th>VerifyCountry</th>\n",
              "      <th>Cycle</th>\n",
              "      <th>idscreen</th>\n",
              "      <th>Credit3Dashboard</th>\n",
              "      <th>Loan3</th>\n",
              "      <th>CC1Category</th>\n",
              "      <th>Splash</th>\n",
              "      <th>Loan</th>\n",
              "      <th>CC1</th>\n",
              "      <th>RewardsContainer</th>\n",
              "      <th>Credit3</th>\n",
              "      <th>Credit1</th>\n",
              "      <th>EditProfile</th>\n",
              "      <th>Credit2</th>\n",
              "      <th>Finances</th>\n",
              "      <th>CC3</th>\n",
              "      <th>Saving9</th>\n",
              "      <th>Saving1</th>\n",
              "      <th>Alerts</th>\n",
              "      <th>Saving8</th>\n",
              "      <th>Saving10</th>\n",
              "      <th>Leaderboard</th>\n",
              "      <th>Saving4</th>\n",
              "      <th>VerifyMobile</th>\n",
              "      <th>VerifyHousing</th>\n",
              "      <th>RewardDetail</th>\n",
              "      <th>VerifyHousingAmount</th>\n",
              "      <th>ProfileMaritalStatus</th>\n",
              "      <th>ProfileChildren</th>\n",
              "      <th>ProfileEducation</th>\n",
              "      <th>Saving7</th>\n",
              "      <th>ProfileEducationMajor</th>\n",
              "      <th>Rewards</th>\n",
              "      <th>AccountView</th>\n",
              "      <th>VerifyAnnualIncome</th>\n",
              "      <th>VerifyIncomeType</th>\n",
              "      <th>Saving2</th>\n",
              "      <th>Saving6</th>\n",
              "      <th>Saving2Amount</th>\n",
              "      <th>Saving5</th>\n",
              "      <th>ProfileJobTitle</th>\n",
              "      <th>Login</th>\n",
              "      <th>ProfileEmploymentLength</th>\n",
              "      <th>WebView</th>\n",
              "      <th>SecurityModal</th>\n",
              "      <th>Loan4</th>\n",
              "      <th>ResendToken</th>\n",
              "      <th>TransactionList</th>\n",
              "      <th>NetworkFailure</th>\n",
              "      <th>ListPicker</th>\n",
              "    </tr>\n",
              "  </thead>\n",
              "  <tbody>\n",
              "    <tr>\n",
              "      <th>0</th>\n",
              "      <td>235136</td>\n",
              "      <td>3</td>\n",
              "      <td>2</td>\n",
              "      <td>23</td>\n",
              "      <td>joinscreen,product_review,ScanPreview,VerifyTo...</td>\n",
              "      <td>15</td>\n",
              "      <td>0</td>\n",
              "      <td>0</td>\n",
              "      <td>0</td>\n",
              "      <td>0</td>\n",
              "      <td>1</td>\n",
              "      <td>0</td>\n",
              "      <td>0</td>\n",
              "      <td>0</td>\n",
              "      <td>1</td>\n",
              "      <td>0</td>\n",
              "      <td>1</td>\n",
              "      <td>0</td>\n",
              "      <td>0</td>\n",
              "      <td>1</td>\n",
              "      <td>1</td>\n",
              "      <td>0</td>\n",
              "      <td>0</td>\n",
              "      <td>0</td>\n",
              "      <td>0</td>\n",
              "      <td>0</td>\n",
              "      <td>0</td>\n",
              "      <td>0</td>\n",
              "      <td>0</td>\n",
              "      <td>0</td>\n",
              "      <td>0</td>\n",
              "      <td>0</td>\n",
              "      <td>0</td>\n",
              "      <td>0</td>\n",
              "      <td>0</td>\n",
              "      <td>0</td>\n",
              "      <td>0</td>\n",
              "      <td>0</td>\n",
              "      <td>0</td>\n",
              "      <td>0</td>\n",
              "      <td>0</td>\n",
              "      <td>0</td>\n",
              "      <td>0</td>\n",
              "      <td>0</td>\n",
              "      <td>0</td>\n",
              "      <td>0</td>\n",
              "      <td>0</td>\n",
              "      <td>0</td>\n",
              "      <td>0</td>\n",
              "      <td>0</td>\n",
              "      <td>0</td>\n",
              "      <td>0</td>\n",
              "      <td>0</td>\n",
              "      <td>0</td>\n",
              "      <td>0</td>\n",
              "      <td>0</td>\n",
              "      <td>0</td>\n",
              "      <td>0</td>\n",
              "      <td>0</td>\n",
              "      <td>1</td>\n",
              "      <td>0</td>\n",
              "      <td>0</td>\n",
              "      <td>0</td>\n",
              "      <td>0</td>\n",
              "      <td>0</td>\n",
              "      <td>0</td>\n",
              "      <td>0</td>\n",
              "      <td>0</td>\n",
              "    </tr>\n",
              "    <tr>\n",
              "      <th>1</th>\n",
              "      <td>333588</td>\n",
              "      <td>6</td>\n",
              "      <td>1</td>\n",
              "      <td>24</td>\n",
              "      <td>joinscreen,product_review,product_review2,Scan...</td>\n",
              "      <td>13</td>\n",
              "      <td>0</td>\n",
              "      <td>0</td>\n",
              "      <td>0</td>\n",
              "      <td>0</td>\n",
              "      <td>1</td>\n",
              "      <td>1</td>\n",
              "      <td>1</td>\n",
              "      <td>0</td>\n",
              "      <td>1</td>\n",
              "      <td>0</td>\n",
              "      <td>1</td>\n",
              "      <td>0</td>\n",
              "      <td>1</td>\n",
              "      <td>0</td>\n",
              "      <td>0</td>\n",
              "      <td>0</td>\n",
              "      <td>0</td>\n",
              "      <td>0</td>\n",
              "      <td>0</td>\n",
              "      <td>0</td>\n",
              "      <td>0</td>\n",
              "      <td>0</td>\n",
              "      <td>0</td>\n",
              "      <td>0</td>\n",
              "      <td>0</td>\n",
              "      <td>0</td>\n",
              "      <td>0</td>\n",
              "      <td>0</td>\n",
              "      <td>0</td>\n",
              "      <td>0</td>\n",
              "      <td>0</td>\n",
              "      <td>0</td>\n",
              "      <td>0</td>\n",
              "      <td>0</td>\n",
              "      <td>0</td>\n",
              "      <td>0</td>\n",
              "      <td>0</td>\n",
              "      <td>0</td>\n",
              "      <td>0</td>\n",
              "      <td>0</td>\n",
              "      <td>0</td>\n",
              "      <td>0</td>\n",
              "      <td>0</td>\n",
              "      <td>0</td>\n",
              "      <td>0</td>\n",
              "      <td>0</td>\n",
              "      <td>0</td>\n",
              "      <td>0</td>\n",
              "      <td>0</td>\n",
              "      <td>0</td>\n",
              "      <td>0</td>\n",
              "      <td>0</td>\n",
              "      <td>0</td>\n",
              "      <td>0</td>\n",
              "      <td>0</td>\n",
              "      <td>0</td>\n",
              "      <td>0</td>\n",
              "      <td>0</td>\n",
              "      <td>0</td>\n",
              "      <td>0</td>\n",
              "      <td>0</td>\n",
              "      <td>0</td>\n",
              "    </tr>\n",
              "    <tr>\n",
              "      <th>2</th>\n",
              "      <td>254414</td>\n",
              "      <td>1</td>\n",
              "      <td>19</td>\n",
              "      <td>23</td>\n",
              "      <td></td>\n",
              "      <td>3</td>\n",
              "      <td>0</td>\n",
              "      <td>1</td>\n",
              "      <td>0</td>\n",
              "      <td>1</td>\n",
              "      <td>0</td>\n",
              "      <td>0</td>\n",
              "      <td>0</td>\n",
              "      <td>0</td>\n",
              "      <td>0</td>\n",
              "      <td>0</td>\n",
              "      <td>0</td>\n",
              "      <td>0</td>\n",
              "      <td>0</td>\n",
              "      <td>1</td>\n",
              "      <td>0</td>\n",
              "      <td>0</td>\n",
              "      <td>0</td>\n",
              "      <td>0</td>\n",
              "      <td>1</td>\n",
              "      <td>1</td>\n",
              "      <td>0</td>\n",
              "      <td>0</td>\n",
              "      <td>0</td>\n",
              "      <td>0</td>\n",
              "      <td>0</td>\n",
              "      <td>0</td>\n",
              "      <td>0</td>\n",
              "      <td>0</td>\n",
              "      <td>0</td>\n",
              "      <td>0</td>\n",
              "      <td>0</td>\n",
              "      <td>0</td>\n",
              "      <td>0</td>\n",
              "      <td>0</td>\n",
              "      <td>0</td>\n",
              "      <td>0</td>\n",
              "      <td>0</td>\n",
              "      <td>0</td>\n",
              "      <td>0</td>\n",
              "      <td>0</td>\n",
              "      <td>0</td>\n",
              "      <td>0</td>\n",
              "      <td>0</td>\n",
              "      <td>0</td>\n",
              "      <td>0</td>\n",
              "      <td>0</td>\n",
              "      <td>0</td>\n",
              "      <td>0</td>\n",
              "      <td>0</td>\n",
              "      <td>0</td>\n",
              "      <td>0</td>\n",
              "      <td>0</td>\n",
              "      <td>0</td>\n",
              "      <td>0</td>\n",
              "      <td>0</td>\n",
              "      <td>0</td>\n",
              "      <td>0</td>\n",
              "      <td>0</td>\n",
              "      <td>0</td>\n",
              "      <td>0</td>\n",
              "      <td>0</td>\n",
              "      <td>0</td>\n",
              "    </tr>\n",
              "    <tr>\n",
              "      <th>3</th>\n",
              "      <td>234192</td>\n",
              "      <td>4</td>\n",
              "      <td>16</td>\n",
              "      <td>28</td>\n",
              "      <td>product_review,Home,product_review,ReferralCon...</td>\n",
              "      <td>40</td>\n",
              "      <td>0</td>\n",
              "      <td>0</td>\n",
              "      <td>1</td>\n",
              "      <td>0</td>\n",
              "      <td>0</td>\n",
              "      <td>1</td>\n",
              "      <td>0</td>\n",
              "      <td>0</td>\n",
              "      <td>1</td>\n",
              "      <td>0</td>\n",
              "      <td>1</td>\n",
              "      <td>0</td>\n",
              "      <td>0</td>\n",
              "      <td>0</td>\n",
              "      <td>0</td>\n",
              "      <td>0</td>\n",
              "      <td>1</td>\n",
              "      <td>0</td>\n",
              "      <td>0</td>\n",
              "      <td>0</td>\n",
              "      <td>0</td>\n",
              "      <td>0</td>\n",
              "      <td>1</td>\n",
              "      <td>1</td>\n",
              "      <td>0</td>\n",
              "      <td>1</td>\n",
              "      <td>1</td>\n",
              "      <td>0</td>\n",
              "      <td>0</td>\n",
              "      <td>0</td>\n",
              "      <td>0</td>\n",
              "      <td>0</td>\n",
              "      <td>0</td>\n",
              "      <td>1</td>\n",
              "      <td>0</td>\n",
              "      <td>0</td>\n",
              "      <td>0</td>\n",
              "      <td>1</td>\n",
              "      <td>0</td>\n",
              "      <td>0</td>\n",
              "      <td>0</td>\n",
              "      <td>0</td>\n",
              "      <td>0</td>\n",
              "      <td>0</td>\n",
              "      <td>1</td>\n",
              "      <td>0</td>\n",
              "      <td>0</td>\n",
              "      <td>0</td>\n",
              "      <td>0</td>\n",
              "      <td>0</td>\n",
              "      <td>0</td>\n",
              "      <td>0</td>\n",
              "      <td>0</td>\n",
              "      <td>0</td>\n",
              "      <td>0</td>\n",
              "      <td>0</td>\n",
              "      <td>0</td>\n",
              "      <td>0</td>\n",
              "      <td>0</td>\n",
              "      <td>0</td>\n",
              "      <td>0</td>\n",
              "      <td>0</td>\n",
              "    </tr>\n",
              "    <tr>\n",
              "      <th>4</th>\n",
              "      <td>51549</td>\n",
              "      <td>1</td>\n",
              "      <td>18</td>\n",
              "      <td>31</td>\n",
              "      <td>joinscreen,ScanPreview,VerifySSN,Home,SelectIn...</td>\n",
              "      <td>32</td>\n",
              "      <td>0</td>\n",
              "      <td>0</td>\n",
              "      <td>1</td>\n",
              "      <td>1</td>\n",
              "      <td>1</td>\n",
              "      <td>0</td>\n",
              "      <td>1</td>\n",
              "      <td>1</td>\n",
              "      <td>1</td>\n",
              "      <td>1</td>\n",
              "      <td>0</td>\n",
              "      <td>0</td>\n",
              "      <td>1</td>\n",
              "      <td>1</td>\n",
              "      <td>1</td>\n",
              "      <td>0</td>\n",
              "      <td>0</td>\n",
              "      <td>0</td>\n",
              "      <td>0</td>\n",
              "      <td>0</td>\n",
              "      <td>0</td>\n",
              "      <td>0</td>\n",
              "      <td>0</td>\n",
              "      <td>1</td>\n",
              "      <td>0</td>\n",
              "      <td>0</td>\n",
              "      <td>0</td>\n",
              "      <td>0</td>\n",
              "      <td>0</td>\n",
              "      <td>0</td>\n",
              "      <td>0</td>\n",
              "      <td>0</td>\n",
              "      <td>0</td>\n",
              "      <td>0</td>\n",
              "      <td>0</td>\n",
              "      <td>0</td>\n",
              "      <td>0</td>\n",
              "      <td>0</td>\n",
              "      <td>0</td>\n",
              "      <td>0</td>\n",
              "      <td>0</td>\n",
              "      <td>0</td>\n",
              "      <td>0</td>\n",
              "      <td>0</td>\n",
              "      <td>0</td>\n",
              "      <td>0</td>\n",
              "      <td>0</td>\n",
              "      <td>0</td>\n",
              "      <td>0</td>\n",
              "      <td>0</td>\n",
              "      <td>0</td>\n",
              "      <td>0</td>\n",
              "      <td>0</td>\n",
              "      <td>0</td>\n",
              "      <td>0</td>\n",
              "      <td>0</td>\n",
              "      <td>0</td>\n",
              "      <td>0</td>\n",
              "      <td>0</td>\n",
              "      <td>0</td>\n",
              "      <td>0</td>\n",
              "      <td>0</td>\n",
              "    </tr>\n",
              "  </tbody>\n",
              "</table>\n",
              "</div>"
            ],
            "text/plain": [
              "     user  dayofweek  hour  ...  TransactionList NetworkFailure  ListPicker\n",
              "0  235136          3     2  ...                0              0           0\n",
              "1  333588          6     1  ...                0              0           0\n",
              "2  254414          1    19  ...                0              0           0\n",
              "3  234192          4    16  ...                0              0           0\n",
              "4   51549          1    18  ...                0              0           0\n",
              "\n",
              "[5 rows x 68 columns]"
            ]
          },
          "metadata": {
            "tags": []
          },
          "execution_count": 31
        }
      ]
    },
    {
      "cell_type": "code",
      "metadata": {
        "colab": {
          "base_uri": "https://localhost:8080/"
        },
        "id": "0ZXIAjBG4bXO",
        "outputId": "4ce7693d-6701-4db7-a12b-11009cf8f71f"
      },
      "source": [
        "fineTech_appData.shape"
      ],
      "execution_count": 32,
      "outputs": [
        {
          "output_type": "execute_result",
          "data": {
            "text/plain": [
              "(50000, 68)"
            ]
          },
          "metadata": {
            "tags": []
          },
          "execution_count": 32
        }
      ]
    },
    {
      "cell_type": "code",
      "metadata": {
        "colab": {
          "base_uri": "https://localhost:8080/",
          "height": 35
        },
        "id": "hMEDmOVG4261",
        "outputId": "ca965d4b-3fd2-46d8-eb56-7cab56cbc657"
      },
      "source": [
        "## Those screens are not availble in ‘fineTech_app_screen_Data’ \r\n",
        "## that are counted and counted number store in new column by name ‘remain_screen_list’.\r\n",
        "\r\n",
        "fineTech_appData.loc[3,'screen_list']"
      ],
      "execution_count": 33,
      "outputs": [
        {
          "output_type": "execute_result",
          "data": {
            "application/vnd.google.colaboratory.intrinsic+json": {
              "type": "string"
            },
            "text/plain": [
              "'product_review,Home,product_review,ReferralContainer,ScanPreview,VerifySSN,'"
            ]
          },
          "metadata": {
            "tags": []
          },
          "execution_count": 33
        }
      ]
    },
    {
      "cell_type": "code",
      "metadata": {
        "colab": {
          "base_uri": "https://localhost:8080/",
          "height": 35
        },
        "id": "D51pNFRS5Z4x",
        "outputId": "0921719a-e3c3-4b1f-877d-e04ba47e4809"
      },
      "source": [
        "fineTech_appData.loc[0, 'screen_list']"
      ],
      "execution_count": 34,
      "outputs": [
        {
          "output_type": "execute_result",
          "data": {
            "application/vnd.google.colaboratory.intrinsic+json": {
              "type": "string"
            },
            "text/plain": [
              "'joinscreen,product_review,ScanPreview,VerifyToken,ProfileVerifySSN,Settings,ForgotPassword,'"
            ]
          },
          "metadata": {
            "tags": []
          },
          "execution_count": 34
        }
      ]
    },
    {
      "cell_type": "code",
      "metadata": {
        "id": "8cfq8xl65n8C"
      },
      "source": [
        "## count remain screen list and store counted number in 'remain_screen_list'\r\n",
        "\r\n",
        "fineTech_appData['remain_screen_list'] = fineTech_appData.screen_list.str.count(\",\")\r\n"
      ],
      "execution_count": 35,
      "outputs": []
    },
    {
      "cell_type": "code",
      "metadata": {
        "colab": {
          "base_uri": "https://localhost:8080/",
          "height": 215
        },
        "id": "5V4QgbxU5szc",
        "outputId": "42be811d-4865-40ab-8310-c44cc909daf5"
      },
      "source": [
        "fineTech_appData.head(5)"
      ],
      "execution_count": 36,
      "outputs": [
        {
          "output_type": "execute_result",
          "data": {
            "text/html": [
              "<div>\n",
              "<style scoped>\n",
              "    .dataframe tbody tr th:only-of-type {\n",
              "        vertical-align: middle;\n",
              "    }\n",
              "\n",
              "    .dataframe tbody tr th {\n",
              "        vertical-align: top;\n",
              "    }\n",
              "\n",
              "    .dataframe thead th {\n",
              "        text-align: right;\n",
              "    }\n",
              "</style>\n",
              "<table border=\"1\" class=\"dataframe\">\n",
              "  <thead>\n",
              "    <tr style=\"text-align: right;\">\n",
              "      <th></th>\n",
              "      <th>user</th>\n",
              "      <th>dayofweek</th>\n",
              "      <th>hour</th>\n",
              "      <th>age</th>\n",
              "      <th>screen_list</th>\n",
              "      <th>numscreens</th>\n",
              "      <th>minigame</th>\n",
              "      <th>used_premium_feature</th>\n",
              "      <th>enrolled</th>\n",
              "      <th>liked</th>\n",
              "      <th>Loan2</th>\n",
              "      <th>location</th>\n",
              "      <th>Institutions</th>\n",
              "      <th>Credit3Container</th>\n",
              "      <th>VerifyPhone</th>\n",
              "      <th>BankVerification</th>\n",
              "      <th>VerifyDateOfBirth</th>\n",
              "      <th>ProfilePage</th>\n",
              "      <th>VerifyCountry</th>\n",
              "      <th>Cycle</th>\n",
              "      <th>idscreen</th>\n",
              "      <th>Credit3Dashboard</th>\n",
              "      <th>Loan3</th>\n",
              "      <th>CC1Category</th>\n",
              "      <th>Splash</th>\n",
              "      <th>Loan</th>\n",
              "      <th>CC1</th>\n",
              "      <th>RewardsContainer</th>\n",
              "      <th>Credit3</th>\n",
              "      <th>Credit1</th>\n",
              "      <th>EditProfile</th>\n",
              "      <th>Credit2</th>\n",
              "      <th>Finances</th>\n",
              "      <th>CC3</th>\n",
              "      <th>Saving9</th>\n",
              "      <th>Saving1</th>\n",
              "      <th>Alerts</th>\n",
              "      <th>Saving8</th>\n",
              "      <th>Saving10</th>\n",
              "      <th>Leaderboard</th>\n",
              "      <th>Saving4</th>\n",
              "      <th>VerifyMobile</th>\n",
              "      <th>VerifyHousing</th>\n",
              "      <th>RewardDetail</th>\n",
              "      <th>VerifyHousingAmount</th>\n",
              "      <th>ProfileMaritalStatus</th>\n",
              "      <th>ProfileChildren</th>\n",
              "      <th>ProfileEducation</th>\n",
              "      <th>Saving7</th>\n",
              "      <th>ProfileEducationMajor</th>\n",
              "      <th>Rewards</th>\n",
              "      <th>AccountView</th>\n",
              "      <th>VerifyAnnualIncome</th>\n",
              "      <th>VerifyIncomeType</th>\n",
              "      <th>Saving2</th>\n",
              "      <th>Saving6</th>\n",
              "      <th>Saving2Amount</th>\n",
              "      <th>Saving5</th>\n",
              "      <th>ProfileJobTitle</th>\n",
              "      <th>Login</th>\n",
              "      <th>ProfileEmploymentLength</th>\n",
              "      <th>WebView</th>\n",
              "      <th>SecurityModal</th>\n",
              "      <th>Loan4</th>\n",
              "      <th>ResendToken</th>\n",
              "      <th>TransactionList</th>\n",
              "      <th>NetworkFailure</th>\n",
              "      <th>ListPicker</th>\n",
              "      <th>remain_screen_list</th>\n",
              "    </tr>\n",
              "  </thead>\n",
              "  <tbody>\n",
              "    <tr>\n",
              "      <th>0</th>\n",
              "      <td>235136</td>\n",
              "      <td>3</td>\n",
              "      <td>2</td>\n",
              "      <td>23</td>\n",
              "      <td>joinscreen,product_review,ScanPreview,VerifyTo...</td>\n",
              "      <td>15</td>\n",
              "      <td>0</td>\n",
              "      <td>0</td>\n",
              "      <td>0</td>\n",
              "      <td>0</td>\n",
              "      <td>1</td>\n",
              "      <td>0</td>\n",
              "      <td>0</td>\n",
              "      <td>0</td>\n",
              "      <td>1</td>\n",
              "      <td>0</td>\n",
              "      <td>1</td>\n",
              "      <td>0</td>\n",
              "      <td>0</td>\n",
              "      <td>1</td>\n",
              "      <td>1</td>\n",
              "      <td>0</td>\n",
              "      <td>0</td>\n",
              "      <td>0</td>\n",
              "      <td>0</td>\n",
              "      <td>0</td>\n",
              "      <td>0</td>\n",
              "      <td>0</td>\n",
              "      <td>0</td>\n",
              "      <td>0</td>\n",
              "      <td>0</td>\n",
              "      <td>0</td>\n",
              "      <td>0</td>\n",
              "      <td>0</td>\n",
              "      <td>0</td>\n",
              "      <td>0</td>\n",
              "      <td>0</td>\n",
              "      <td>0</td>\n",
              "      <td>0</td>\n",
              "      <td>0</td>\n",
              "      <td>0</td>\n",
              "      <td>0</td>\n",
              "      <td>0</td>\n",
              "      <td>0</td>\n",
              "      <td>0</td>\n",
              "      <td>0</td>\n",
              "      <td>0</td>\n",
              "      <td>0</td>\n",
              "      <td>0</td>\n",
              "      <td>0</td>\n",
              "      <td>0</td>\n",
              "      <td>0</td>\n",
              "      <td>0</td>\n",
              "      <td>0</td>\n",
              "      <td>0</td>\n",
              "      <td>0</td>\n",
              "      <td>0</td>\n",
              "      <td>0</td>\n",
              "      <td>0</td>\n",
              "      <td>1</td>\n",
              "      <td>0</td>\n",
              "      <td>0</td>\n",
              "      <td>0</td>\n",
              "      <td>0</td>\n",
              "      <td>0</td>\n",
              "      <td>0</td>\n",
              "      <td>0</td>\n",
              "      <td>0</td>\n",
              "      <td>7</td>\n",
              "    </tr>\n",
              "    <tr>\n",
              "      <th>1</th>\n",
              "      <td>333588</td>\n",
              "      <td>6</td>\n",
              "      <td>1</td>\n",
              "      <td>24</td>\n",
              "      <td>joinscreen,product_review,product_review2,Scan...</td>\n",
              "      <td>13</td>\n",
              "      <td>0</td>\n",
              "      <td>0</td>\n",
              "      <td>0</td>\n",
              "      <td>0</td>\n",
              "      <td>1</td>\n",
              "      <td>1</td>\n",
              "      <td>1</td>\n",
              "      <td>0</td>\n",
              "      <td>1</td>\n",
              "      <td>0</td>\n",
              "      <td>1</td>\n",
              "      <td>0</td>\n",
              "      <td>1</td>\n",
              "      <td>0</td>\n",
              "      <td>0</td>\n",
              "      <td>0</td>\n",
              "      <td>0</td>\n",
              "      <td>0</td>\n",
              "      <td>0</td>\n",
              "      <td>0</td>\n",
              "      <td>0</td>\n",
              "      <td>0</td>\n",
              "      <td>0</td>\n",
              "      <td>0</td>\n",
              "      <td>0</td>\n",
              "      <td>0</td>\n",
              "      <td>0</td>\n",
              "      <td>0</td>\n",
              "      <td>0</td>\n",
              "      <td>0</td>\n",
              "      <td>0</td>\n",
              "      <td>0</td>\n",
              "      <td>0</td>\n",
              "      <td>0</td>\n",
              "      <td>0</td>\n",
              "      <td>0</td>\n",
              "      <td>0</td>\n",
              "      <td>0</td>\n",
              "      <td>0</td>\n",
              "      <td>0</td>\n",
              "      <td>0</td>\n",
              "      <td>0</td>\n",
              "      <td>0</td>\n",
              "      <td>0</td>\n",
              "      <td>0</td>\n",
              "      <td>0</td>\n",
              "      <td>0</td>\n",
              "      <td>0</td>\n",
              "      <td>0</td>\n",
              "      <td>0</td>\n",
              "      <td>0</td>\n",
              "      <td>0</td>\n",
              "      <td>0</td>\n",
              "      <td>0</td>\n",
              "      <td>0</td>\n",
              "      <td>0</td>\n",
              "      <td>0</td>\n",
              "      <td>0</td>\n",
              "      <td>0</td>\n",
              "      <td>0</td>\n",
              "      <td>0</td>\n",
              "      <td>0</td>\n",
              "      <td>5</td>\n",
              "    </tr>\n",
              "    <tr>\n",
              "      <th>2</th>\n",
              "      <td>254414</td>\n",
              "      <td>1</td>\n",
              "      <td>19</td>\n",
              "      <td>23</td>\n",
              "      <td></td>\n",
              "      <td>3</td>\n",
              "      <td>0</td>\n",
              "      <td>1</td>\n",
              "      <td>0</td>\n",
              "      <td>1</td>\n",
              "      <td>0</td>\n",
              "      <td>0</td>\n",
              "      <td>0</td>\n",
              "      <td>0</td>\n",
              "      <td>0</td>\n",
              "      <td>0</td>\n",
              "      <td>0</td>\n",
              "      <td>0</td>\n",
              "      <td>0</td>\n",
              "      <td>1</td>\n",
              "      <td>0</td>\n",
              "      <td>0</td>\n",
              "      <td>0</td>\n",
              "      <td>0</td>\n",
              "      <td>1</td>\n",
              "      <td>1</td>\n",
              "      <td>0</td>\n",
              "      <td>0</td>\n",
              "      <td>0</td>\n",
              "      <td>0</td>\n",
              "      <td>0</td>\n",
              "      <td>0</td>\n",
              "      <td>0</td>\n",
              "      <td>0</td>\n",
              "      <td>0</td>\n",
              "      <td>0</td>\n",
              "      <td>0</td>\n",
              "      <td>0</td>\n",
              "      <td>0</td>\n",
              "      <td>0</td>\n",
              "      <td>0</td>\n",
              "      <td>0</td>\n",
              "      <td>0</td>\n",
              "      <td>0</td>\n",
              "      <td>0</td>\n",
              "      <td>0</td>\n",
              "      <td>0</td>\n",
              "      <td>0</td>\n",
              "      <td>0</td>\n",
              "      <td>0</td>\n",
              "      <td>0</td>\n",
              "      <td>0</td>\n",
              "      <td>0</td>\n",
              "      <td>0</td>\n",
              "      <td>0</td>\n",
              "      <td>0</td>\n",
              "      <td>0</td>\n",
              "      <td>0</td>\n",
              "      <td>0</td>\n",
              "      <td>0</td>\n",
              "      <td>0</td>\n",
              "      <td>0</td>\n",
              "      <td>0</td>\n",
              "      <td>0</td>\n",
              "      <td>0</td>\n",
              "      <td>0</td>\n",
              "      <td>0</td>\n",
              "      <td>0</td>\n",
              "      <td>0</td>\n",
              "    </tr>\n",
              "    <tr>\n",
              "      <th>3</th>\n",
              "      <td>234192</td>\n",
              "      <td>4</td>\n",
              "      <td>16</td>\n",
              "      <td>28</td>\n",
              "      <td>product_review,Home,product_review,ReferralCon...</td>\n",
              "      <td>40</td>\n",
              "      <td>0</td>\n",
              "      <td>0</td>\n",
              "      <td>1</td>\n",
              "      <td>0</td>\n",
              "      <td>0</td>\n",
              "      <td>1</td>\n",
              "      <td>0</td>\n",
              "      <td>0</td>\n",
              "      <td>1</td>\n",
              "      <td>0</td>\n",
              "      <td>1</td>\n",
              "      <td>0</td>\n",
              "      <td>0</td>\n",
              "      <td>0</td>\n",
              "      <td>0</td>\n",
              "      <td>0</td>\n",
              "      <td>1</td>\n",
              "      <td>0</td>\n",
              "      <td>0</td>\n",
              "      <td>0</td>\n",
              "      <td>0</td>\n",
              "      <td>0</td>\n",
              "      <td>1</td>\n",
              "      <td>1</td>\n",
              "      <td>0</td>\n",
              "      <td>1</td>\n",
              "      <td>1</td>\n",
              "      <td>0</td>\n",
              "      <td>0</td>\n",
              "      <td>0</td>\n",
              "      <td>0</td>\n",
              "      <td>0</td>\n",
              "      <td>0</td>\n",
              "      <td>1</td>\n",
              "      <td>0</td>\n",
              "      <td>0</td>\n",
              "      <td>0</td>\n",
              "      <td>1</td>\n",
              "      <td>0</td>\n",
              "      <td>0</td>\n",
              "      <td>0</td>\n",
              "      <td>0</td>\n",
              "      <td>0</td>\n",
              "      <td>0</td>\n",
              "      <td>1</td>\n",
              "      <td>0</td>\n",
              "      <td>0</td>\n",
              "      <td>0</td>\n",
              "      <td>0</td>\n",
              "      <td>0</td>\n",
              "      <td>0</td>\n",
              "      <td>0</td>\n",
              "      <td>0</td>\n",
              "      <td>0</td>\n",
              "      <td>0</td>\n",
              "      <td>0</td>\n",
              "      <td>0</td>\n",
              "      <td>0</td>\n",
              "      <td>0</td>\n",
              "      <td>0</td>\n",
              "      <td>0</td>\n",
              "      <td>0</td>\n",
              "      <td>6</td>\n",
              "    </tr>\n",
              "    <tr>\n",
              "      <th>4</th>\n",
              "      <td>51549</td>\n",
              "      <td>1</td>\n",
              "      <td>18</td>\n",
              "      <td>31</td>\n",
              "      <td>joinscreen,ScanPreview,VerifySSN,Home,SelectIn...</td>\n",
              "      <td>32</td>\n",
              "      <td>0</td>\n",
              "      <td>0</td>\n",
              "      <td>1</td>\n",
              "      <td>1</td>\n",
              "      <td>1</td>\n",
              "      <td>0</td>\n",
              "      <td>1</td>\n",
              "      <td>1</td>\n",
              "      <td>1</td>\n",
              "      <td>1</td>\n",
              "      <td>0</td>\n",
              "      <td>0</td>\n",
              "      <td>1</td>\n",
              "      <td>1</td>\n",
              "      <td>1</td>\n",
              "      <td>0</td>\n",
              "      <td>0</td>\n",
              "      <td>0</td>\n",
              "      <td>0</td>\n",
              "      <td>0</td>\n",
              "      <td>0</td>\n",
              "      <td>0</td>\n",
              "      <td>0</td>\n",
              "      <td>1</td>\n",
              "      <td>0</td>\n",
              "      <td>0</td>\n",
              "      <td>0</td>\n",
              "      <td>0</td>\n",
              "      <td>0</td>\n",
              "      <td>0</td>\n",
              "      <td>0</td>\n",
              "      <td>0</td>\n",
              "      <td>0</td>\n",
              "      <td>0</td>\n",
              "      <td>0</td>\n",
              "      <td>0</td>\n",
              "      <td>0</td>\n",
              "      <td>0</td>\n",
              "      <td>0</td>\n",
              "      <td>0</td>\n",
              "      <td>0</td>\n",
              "      <td>0</td>\n",
              "      <td>0</td>\n",
              "      <td>0</td>\n",
              "      <td>0</td>\n",
              "      <td>0</td>\n",
              "      <td>0</td>\n",
              "      <td>0</td>\n",
              "      <td>0</td>\n",
              "      <td>0</td>\n",
              "      <td>0</td>\n",
              "      <td>0</td>\n",
              "      <td>0</td>\n",
              "      <td>0</td>\n",
              "      <td>0</td>\n",
              "      <td>0</td>\n",
              "      <td>0</td>\n",
              "      <td>0</td>\n",
              "      <td>0</td>\n",
              "      <td>0</td>\n",
              "      <td>0</td>\n",
              "      <td>0</td>\n",
              "      <td>10</td>\n",
              "    </tr>\n",
              "  </tbody>\n",
              "</table>\n",
              "</div>"
            ],
            "text/plain": [
              "     user  dayofweek  hour  ...  NetworkFailure ListPicker  remain_screen_list\n",
              "0  235136          3     2  ...               0          0                   7\n",
              "1  333588          6     1  ...               0          0                   5\n",
              "2  254414          1    19  ...               0          0                   0\n",
              "3  234192          4    16  ...               0          0                   6\n",
              "4   51549          1    18  ...               0          0                  10\n",
              "\n",
              "[5 rows x 69 columns]"
            ]
          },
          "metadata": {
            "tags": []
          },
          "execution_count": 36
        }
      ]
    },
    {
      "cell_type": "code",
      "metadata": {
        "id": "kMq_Ouzs5u84"
      },
      "source": [
        "## Dropping Screen List \r\n",
        "\r\n",
        "\r\n",
        "fineTech_appData.drop(columns = ['screen_list'], inplace=True)"
      ],
      "execution_count": 37,
      "outputs": []
    },
    {
      "cell_type": "code",
      "metadata": {
        "colab": {
          "base_uri": "https://localhost:8080/"
        },
        "id": "hEmXJF5F52S_",
        "outputId": "7c2eef3e-2d45-47a0-8671-bed39de0c612"
      },
      "source": [
        "fineTech_appData.columns"
      ],
      "execution_count": 38,
      "outputs": [
        {
          "output_type": "execute_result",
          "data": {
            "text/plain": [
              "Index(['user', 'dayofweek', 'hour', 'age', 'numscreens', 'minigame',\n",
              "       'used_premium_feature', 'enrolled', 'liked', 'Loan2', 'location',\n",
              "       'Institutions', 'Credit3Container', 'VerifyPhone', 'BankVerification',\n",
              "       'VerifyDateOfBirth', 'ProfilePage', 'VerifyCountry', 'Cycle',\n",
              "       'idscreen', 'Credit3Dashboard', 'Loan3', 'CC1Category', 'Splash',\n",
              "       'Loan', 'CC1', 'RewardsContainer', 'Credit3', 'Credit1', 'EditProfile',\n",
              "       'Credit2', 'Finances', 'CC3', 'Saving9', 'Saving1', 'Alerts', 'Saving8',\n",
              "       'Saving10', 'Leaderboard', 'Saving4', 'VerifyMobile', 'VerifyHousing',\n",
              "       'RewardDetail', 'VerifyHousingAmount', 'ProfileMaritalStatus',\n",
              "       'ProfileChildren ', 'ProfileEducation', 'Saving7',\n",
              "       'ProfileEducationMajor', 'Rewards', 'AccountView', 'VerifyAnnualIncome',\n",
              "       'VerifyIncomeType', 'Saving2', 'Saving6', 'Saving2Amount', 'Saving5',\n",
              "       'ProfileJobTitle', 'Login', 'ProfileEmploymentLength', 'WebView',\n",
              "       'SecurityModal', 'Loan4', 'ResendToken', 'TransactionList',\n",
              "       'NetworkFailure', 'ListPicker', 'remain_screen_list'],\n",
              "      dtype='object')"
            ]
          },
          "metadata": {
            "tags": []
          },
          "execution_count": 38
        }
      ]
    },
    {
      "cell_type": "code",
      "metadata": {
        "colab": {
          "base_uri": "https://localhost:8080/",
          "height": 215
        },
        "id": "09IYzhH1534u",
        "outputId": "9cb8b2af-34ac-4694-ff21-be3f7201edeb"
      },
      "source": [
        "  ## All the Saving Screens are similar to each other, so let us take the sum of all saving screens in each row and store in a single row\r\n",
        "\r\n",
        "\r\n",
        "  saving_screens = ['Saving1',\r\n",
        "                  'Saving2',\r\n",
        "                  'Saving2Amount',\r\n",
        "                  'Saving4',\r\n",
        "                  'Saving5',\r\n",
        "                  'Saving6',\r\n",
        "                  'Saving7',\r\n",
        "                  'Saving8',\r\n",
        "                  'Saving9',\r\n",
        "                  'Saving10',]\r\n",
        "\r\n",
        "fineTech_appData['saving_screens_count'] = fineTech_appData[saving_screens].sum(axis=1)\r\n",
        "fineTech_appData.drop(columns = saving_screens, inplace = True)\r\n",
        "\r\n",
        "fineTech_appData.head(5)"
      ],
      "execution_count": 39,
      "outputs": [
        {
          "output_type": "execute_result",
          "data": {
            "text/html": [
              "<div>\n",
              "<style scoped>\n",
              "    .dataframe tbody tr th:only-of-type {\n",
              "        vertical-align: middle;\n",
              "    }\n",
              "\n",
              "    .dataframe tbody tr th {\n",
              "        vertical-align: top;\n",
              "    }\n",
              "\n",
              "    .dataframe thead th {\n",
              "        text-align: right;\n",
              "    }\n",
              "</style>\n",
              "<table border=\"1\" class=\"dataframe\">\n",
              "  <thead>\n",
              "    <tr style=\"text-align: right;\">\n",
              "      <th></th>\n",
              "      <th>user</th>\n",
              "      <th>dayofweek</th>\n",
              "      <th>hour</th>\n",
              "      <th>age</th>\n",
              "      <th>numscreens</th>\n",
              "      <th>minigame</th>\n",
              "      <th>used_premium_feature</th>\n",
              "      <th>enrolled</th>\n",
              "      <th>liked</th>\n",
              "      <th>Loan2</th>\n",
              "      <th>location</th>\n",
              "      <th>Institutions</th>\n",
              "      <th>Credit3Container</th>\n",
              "      <th>VerifyPhone</th>\n",
              "      <th>BankVerification</th>\n",
              "      <th>VerifyDateOfBirth</th>\n",
              "      <th>ProfilePage</th>\n",
              "      <th>VerifyCountry</th>\n",
              "      <th>Cycle</th>\n",
              "      <th>idscreen</th>\n",
              "      <th>Credit3Dashboard</th>\n",
              "      <th>Loan3</th>\n",
              "      <th>CC1Category</th>\n",
              "      <th>Splash</th>\n",
              "      <th>Loan</th>\n",
              "      <th>CC1</th>\n",
              "      <th>RewardsContainer</th>\n",
              "      <th>Credit3</th>\n",
              "      <th>Credit1</th>\n",
              "      <th>EditProfile</th>\n",
              "      <th>Credit2</th>\n",
              "      <th>Finances</th>\n",
              "      <th>CC3</th>\n",
              "      <th>Alerts</th>\n",
              "      <th>Leaderboard</th>\n",
              "      <th>VerifyMobile</th>\n",
              "      <th>VerifyHousing</th>\n",
              "      <th>RewardDetail</th>\n",
              "      <th>VerifyHousingAmount</th>\n",
              "      <th>ProfileMaritalStatus</th>\n",
              "      <th>ProfileChildren</th>\n",
              "      <th>ProfileEducation</th>\n",
              "      <th>ProfileEducationMajor</th>\n",
              "      <th>Rewards</th>\n",
              "      <th>AccountView</th>\n",
              "      <th>VerifyAnnualIncome</th>\n",
              "      <th>VerifyIncomeType</th>\n",
              "      <th>ProfileJobTitle</th>\n",
              "      <th>Login</th>\n",
              "      <th>ProfileEmploymentLength</th>\n",
              "      <th>WebView</th>\n",
              "      <th>SecurityModal</th>\n",
              "      <th>Loan4</th>\n",
              "      <th>ResendToken</th>\n",
              "      <th>TransactionList</th>\n",
              "      <th>NetworkFailure</th>\n",
              "      <th>ListPicker</th>\n",
              "      <th>remain_screen_list</th>\n",
              "      <th>saving_screens_count</th>\n",
              "    </tr>\n",
              "  </thead>\n",
              "  <tbody>\n",
              "    <tr>\n",
              "      <th>0</th>\n",
              "      <td>235136</td>\n",
              "      <td>3</td>\n",
              "      <td>2</td>\n",
              "      <td>23</td>\n",
              "      <td>15</td>\n",
              "      <td>0</td>\n",
              "      <td>0</td>\n",
              "      <td>0</td>\n",
              "      <td>0</td>\n",
              "      <td>1</td>\n",
              "      <td>0</td>\n",
              "      <td>0</td>\n",
              "      <td>0</td>\n",
              "      <td>1</td>\n",
              "      <td>0</td>\n",
              "      <td>1</td>\n",
              "      <td>0</td>\n",
              "      <td>0</td>\n",
              "      <td>1</td>\n",
              "      <td>1</td>\n",
              "      <td>0</td>\n",
              "      <td>0</td>\n",
              "      <td>0</td>\n",
              "      <td>0</td>\n",
              "      <td>0</td>\n",
              "      <td>0</td>\n",
              "      <td>0</td>\n",
              "      <td>0</td>\n",
              "      <td>0</td>\n",
              "      <td>0</td>\n",
              "      <td>0</td>\n",
              "      <td>0</td>\n",
              "      <td>0</td>\n",
              "      <td>0</td>\n",
              "      <td>0</td>\n",
              "      <td>0</td>\n",
              "      <td>0</td>\n",
              "      <td>0</td>\n",
              "      <td>0</td>\n",
              "      <td>0</td>\n",
              "      <td>0</td>\n",
              "      <td>0</td>\n",
              "      <td>0</td>\n",
              "      <td>0</td>\n",
              "      <td>0</td>\n",
              "      <td>0</td>\n",
              "      <td>0</td>\n",
              "      <td>0</td>\n",
              "      <td>1</td>\n",
              "      <td>0</td>\n",
              "      <td>0</td>\n",
              "      <td>0</td>\n",
              "      <td>0</td>\n",
              "      <td>0</td>\n",
              "      <td>0</td>\n",
              "      <td>0</td>\n",
              "      <td>0</td>\n",
              "      <td>7</td>\n",
              "      <td>0</td>\n",
              "    </tr>\n",
              "    <tr>\n",
              "      <th>1</th>\n",
              "      <td>333588</td>\n",
              "      <td>6</td>\n",
              "      <td>1</td>\n",
              "      <td>24</td>\n",
              "      <td>13</td>\n",
              "      <td>0</td>\n",
              "      <td>0</td>\n",
              "      <td>0</td>\n",
              "      <td>0</td>\n",
              "      <td>1</td>\n",
              "      <td>1</td>\n",
              "      <td>1</td>\n",
              "      <td>0</td>\n",
              "      <td>1</td>\n",
              "      <td>0</td>\n",
              "      <td>1</td>\n",
              "      <td>0</td>\n",
              "      <td>1</td>\n",
              "      <td>0</td>\n",
              "      <td>0</td>\n",
              "      <td>0</td>\n",
              "      <td>0</td>\n",
              "      <td>0</td>\n",
              "      <td>0</td>\n",
              "      <td>0</td>\n",
              "      <td>0</td>\n",
              "      <td>0</td>\n",
              "      <td>0</td>\n",
              "      <td>0</td>\n",
              "      <td>0</td>\n",
              "      <td>0</td>\n",
              "      <td>0</td>\n",
              "      <td>0</td>\n",
              "      <td>0</td>\n",
              "      <td>0</td>\n",
              "      <td>0</td>\n",
              "      <td>0</td>\n",
              "      <td>0</td>\n",
              "      <td>0</td>\n",
              "      <td>0</td>\n",
              "      <td>0</td>\n",
              "      <td>0</td>\n",
              "      <td>0</td>\n",
              "      <td>0</td>\n",
              "      <td>0</td>\n",
              "      <td>0</td>\n",
              "      <td>0</td>\n",
              "      <td>0</td>\n",
              "      <td>0</td>\n",
              "      <td>0</td>\n",
              "      <td>0</td>\n",
              "      <td>0</td>\n",
              "      <td>0</td>\n",
              "      <td>0</td>\n",
              "      <td>0</td>\n",
              "      <td>0</td>\n",
              "      <td>0</td>\n",
              "      <td>5</td>\n",
              "      <td>0</td>\n",
              "    </tr>\n",
              "    <tr>\n",
              "      <th>2</th>\n",
              "      <td>254414</td>\n",
              "      <td>1</td>\n",
              "      <td>19</td>\n",
              "      <td>23</td>\n",
              "      <td>3</td>\n",
              "      <td>0</td>\n",
              "      <td>1</td>\n",
              "      <td>0</td>\n",
              "      <td>1</td>\n",
              "      <td>0</td>\n",
              "      <td>0</td>\n",
              "      <td>0</td>\n",
              "      <td>0</td>\n",
              "      <td>0</td>\n",
              "      <td>0</td>\n",
              "      <td>0</td>\n",
              "      <td>0</td>\n",
              "      <td>0</td>\n",
              "      <td>1</td>\n",
              "      <td>0</td>\n",
              "      <td>0</td>\n",
              "      <td>0</td>\n",
              "      <td>0</td>\n",
              "      <td>1</td>\n",
              "      <td>1</td>\n",
              "      <td>0</td>\n",
              "      <td>0</td>\n",
              "      <td>0</td>\n",
              "      <td>0</td>\n",
              "      <td>0</td>\n",
              "      <td>0</td>\n",
              "      <td>0</td>\n",
              "      <td>0</td>\n",
              "      <td>0</td>\n",
              "      <td>0</td>\n",
              "      <td>0</td>\n",
              "      <td>0</td>\n",
              "      <td>0</td>\n",
              "      <td>0</td>\n",
              "      <td>0</td>\n",
              "      <td>0</td>\n",
              "      <td>0</td>\n",
              "      <td>0</td>\n",
              "      <td>0</td>\n",
              "      <td>0</td>\n",
              "      <td>0</td>\n",
              "      <td>0</td>\n",
              "      <td>0</td>\n",
              "      <td>0</td>\n",
              "      <td>0</td>\n",
              "      <td>0</td>\n",
              "      <td>0</td>\n",
              "      <td>0</td>\n",
              "      <td>0</td>\n",
              "      <td>0</td>\n",
              "      <td>0</td>\n",
              "      <td>0</td>\n",
              "      <td>0</td>\n",
              "      <td>0</td>\n",
              "    </tr>\n",
              "    <tr>\n",
              "      <th>3</th>\n",
              "      <td>234192</td>\n",
              "      <td>4</td>\n",
              "      <td>16</td>\n",
              "      <td>28</td>\n",
              "      <td>40</td>\n",
              "      <td>0</td>\n",
              "      <td>0</td>\n",
              "      <td>1</td>\n",
              "      <td>0</td>\n",
              "      <td>0</td>\n",
              "      <td>1</td>\n",
              "      <td>0</td>\n",
              "      <td>0</td>\n",
              "      <td>1</td>\n",
              "      <td>0</td>\n",
              "      <td>1</td>\n",
              "      <td>0</td>\n",
              "      <td>0</td>\n",
              "      <td>0</td>\n",
              "      <td>0</td>\n",
              "      <td>0</td>\n",
              "      <td>1</td>\n",
              "      <td>0</td>\n",
              "      <td>0</td>\n",
              "      <td>0</td>\n",
              "      <td>0</td>\n",
              "      <td>0</td>\n",
              "      <td>1</td>\n",
              "      <td>1</td>\n",
              "      <td>0</td>\n",
              "      <td>1</td>\n",
              "      <td>1</td>\n",
              "      <td>0</td>\n",
              "      <td>0</td>\n",
              "      <td>1</td>\n",
              "      <td>0</td>\n",
              "      <td>0</td>\n",
              "      <td>1</td>\n",
              "      <td>0</td>\n",
              "      <td>0</td>\n",
              "      <td>0</td>\n",
              "      <td>0</td>\n",
              "      <td>0</td>\n",
              "      <td>1</td>\n",
              "      <td>0</td>\n",
              "      <td>0</td>\n",
              "      <td>0</td>\n",
              "      <td>0</td>\n",
              "      <td>0</td>\n",
              "      <td>0</td>\n",
              "      <td>0</td>\n",
              "      <td>0</td>\n",
              "      <td>0</td>\n",
              "      <td>0</td>\n",
              "      <td>0</td>\n",
              "      <td>0</td>\n",
              "      <td>0</td>\n",
              "      <td>6</td>\n",
              "      <td>0</td>\n",
              "    </tr>\n",
              "    <tr>\n",
              "      <th>4</th>\n",
              "      <td>51549</td>\n",
              "      <td>1</td>\n",
              "      <td>18</td>\n",
              "      <td>31</td>\n",
              "      <td>32</td>\n",
              "      <td>0</td>\n",
              "      <td>0</td>\n",
              "      <td>1</td>\n",
              "      <td>1</td>\n",
              "      <td>1</td>\n",
              "      <td>0</td>\n",
              "      <td>1</td>\n",
              "      <td>1</td>\n",
              "      <td>1</td>\n",
              "      <td>1</td>\n",
              "      <td>0</td>\n",
              "      <td>0</td>\n",
              "      <td>1</td>\n",
              "      <td>1</td>\n",
              "      <td>1</td>\n",
              "      <td>0</td>\n",
              "      <td>0</td>\n",
              "      <td>0</td>\n",
              "      <td>0</td>\n",
              "      <td>0</td>\n",
              "      <td>0</td>\n",
              "      <td>0</td>\n",
              "      <td>0</td>\n",
              "      <td>1</td>\n",
              "      <td>0</td>\n",
              "      <td>0</td>\n",
              "      <td>0</td>\n",
              "      <td>0</td>\n",
              "      <td>0</td>\n",
              "      <td>0</td>\n",
              "      <td>0</td>\n",
              "      <td>0</td>\n",
              "      <td>0</td>\n",
              "      <td>0</td>\n",
              "      <td>0</td>\n",
              "      <td>0</td>\n",
              "      <td>0</td>\n",
              "      <td>0</td>\n",
              "      <td>0</td>\n",
              "      <td>0</td>\n",
              "      <td>0</td>\n",
              "      <td>0</td>\n",
              "      <td>0</td>\n",
              "      <td>0</td>\n",
              "      <td>0</td>\n",
              "      <td>0</td>\n",
              "      <td>0</td>\n",
              "      <td>0</td>\n",
              "      <td>0</td>\n",
              "      <td>0</td>\n",
              "      <td>0</td>\n",
              "      <td>0</td>\n",
              "      <td>10</td>\n",
              "      <td>0</td>\n",
              "    </tr>\n",
              "  </tbody>\n",
              "</table>\n",
              "</div>"
            ],
            "text/plain": [
              "     user  dayofweek  ...  remain_screen_list  saving_screens_count\n",
              "0  235136          3  ...                   7                     0\n",
              "1  333588          6  ...                   5                     0\n",
              "2  254414          1  ...                   0                     0\n",
              "3  234192          4  ...                   6                     0\n",
              "4   51549          1  ...                  10                     0\n",
              "\n",
              "[5 rows x 59 columns]"
            ]
          },
          "metadata": {
            "tags": []
          },
          "execution_count": 39
        }
      ]
    },
    {
      "cell_type": "code",
      "metadata": {
        "colab": {
          "base_uri": "https://localhost:8080/"
        },
        "id": "LxwU_xTk6acz",
        "outputId": "c814cced-ebc9-4826-ec5f-dafca40837bf"
      },
      "source": [
        "## Similarly for Credit and Loan Screens \r\n",
        "\r\n",
        "\r\n",
        "credit_screens = ['Credit1',\r\n",
        "                  'Credit2',\r\n",
        "                  'Credit3',\r\n",
        "                  'Credit3Container',\r\n",
        "                  'Credit3Dashboard',\r\n",
        "                 ]\r\n",
        "fineTech_appData['credit_screens_count'] = fineTech_appData[credit_screens].sum(axis = 1)\r\n",
        "fineTech_appData.drop(columns = credit_screens, axis = 1, inplace = True)\r\n",
        "\r\n",
        "fineTech_appData.shape"
      ],
      "execution_count": 40,
      "outputs": [
        {
          "output_type": "execute_result",
          "data": {
            "text/plain": [
              "(50000, 55)"
            ]
          },
          "metadata": {
            "tags": []
          },
          "execution_count": 40
        }
      ]
    },
    {
      "cell_type": "code",
      "metadata": {
        "id": "4ShH05rY6pkb"
      },
      "source": [
        "cc_screens = ['CC1',\r\n",
        "              'CC1Category',\r\n",
        "              'CC3',\r\n",
        "             ]\r\n",
        "fineTech_appData['cc_screens_count'] = fineTech_appData[cc_screens].sum(axis = 1)\r\n",
        "fineTech_appData.drop(columns = cc_screens, inplace = True)"
      ],
      "execution_count": 41,
      "outputs": []
    },
    {
      "cell_type": "code",
      "metadata": {
        "id": "Kw3JiyEl6sP0"
      },
      "source": [
        "loan_screens = ['Loan',\r\n",
        "                'Loan2',\r\n",
        "                'Loan3',\r\n",
        "                'Loan4',\r\n",
        "               ]\r\n",
        "fineTech_appData['loan_screens_count'] = fineTech_appData[loan_screens].sum(axis = 1)\r\n",
        "fineTech_appData.drop(columns = loan_screens, inplace = True)"
      ],
      "execution_count": 42,
      "outputs": []
    },
    {
      "cell_type": "code",
      "metadata": {
        "colab": {
          "base_uri": "https://localhost:8080/"
        },
        "id": "4K9vTmIE6uRL",
        "outputId": "e13c47f6-cad9-42f2-a521-c43c55e76828"
      },
      "source": [
        "fineTech_appData.shape"
      ],
      "execution_count": 43,
      "outputs": [
        {
          "output_type": "execute_result",
          "data": {
            "text/plain": [
              "(50000, 50)"
            ]
          },
          "metadata": {
            "tags": []
          },
          "execution_count": 43
        }
      ]
    },
    {
      "cell_type": "code",
      "metadata": {
        "id": "gbAv1F_V6v6A"
      },
      "source": [
        "## Data PReprocessing : Split train and test data\r\n",
        "\r\n",
        "clean_fineTech_appData = fineTech_appData\r\n",
        "target = fineTech_appData['enrolled']\r\n",
        "fineTech_appData.drop(columns = 'enrolled', inplace = True)\r\n",
        "\r\n",
        "from sklearn.model_selection import train_test_split\r\n",
        "X_train, X_test, y_train, y_test = train_test_split(fineTech_appData, target, test_size = 0.2, random_state = 0)"
      ],
      "execution_count": 44,
      "outputs": []
    },
    {
      "cell_type": "code",
      "metadata": {
        "colab": {
          "base_uri": "https://localhost:8080/"
        },
        "id": "xa0S3fsz749a",
        "outputId": "2e0fe6fc-5953-4cb4-8f74-82c31fa28b70"
      },
      "source": [
        "print('Shape of X_train = ', X_train.shape)\r\n",
        "print('Shape of X_test = ', X_test.shape)\r\n",
        "\r\n",
        "print('Shape of y_train = ', y_train.shape)\r\n",
        "print('Shape of y_test = ', y_test.shape)"
      ],
      "execution_count": 45,
      "outputs": [
        {
          "output_type": "stream",
          "text": [
            "Shape of X_train =  (40000, 49)\n",
            "Shape of X_test =  (10000, 49)\n",
            "Shape of y_train =  (40000,)\n",
            "Shape of y_test =  (10000,)\n"
          ],
          "name": "stdout"
        }
      ]
    },
    {
      "cell_type": "code",
      "metadata": {
        "colab": {
          "base_uri": "https://localhost:8080/"
        },
        "id": "MRX5Hgez7_9Z",
        "outputId": "f268c381-9191-4699-b46d-8f5f36d7b253"
      },
      "source": [
        "## Taking out User ID . This is just a number. \r\n",
        "\r\n",
        "train_userID = X_train['user']\r\n",
        "X_train.drop(columns= 'user', inplace =True\r\n",
        "             )\r\n",
        "test_userID = X_test['user']\r\n",
        "X_test.drop(columns= 'user', inplace =True)"
      ],
      "execution_count": 46,
      "outputs": [
        {
          "output_type": "stream",
          "text": [
            "/usr/local/lib/python3.6/dist-packages/pandas/core/frame.py:4174: SettingWithCopyWarning: \n",
            "A value is trying to be set on a copy of a slice from a DataFrame\n",
            "\n",
            "See the caveats in the documentation: https://pandas.pydata.org/pandas-docs/stable/user_guide/indexing.html#returning-a-view-versus-a-copy\n",
            "  errors=errors,\n"
          ],
          "name": "stderr"
        }
      ]
    },
    {
      "cell_type": "code",
      "metadata": {
        "colab": {
          "base_uri": "https://localhost:8080/"
        },
        "id": "lfx5_gxF8Q7E",
        "outputId": "03174131-27fc-4f47-c17d-c09326d542a9"
      },
      "source": [
        "print('Shape of X_train = ', X_train.shape)\r\n",
        "print('Shape of X_test = ', X_test.shape)\r\n",
        "\r\n",
        "print('Shape of train_userID = ', train_userID.shape)\r\n",
        "print('Shape of test_userID = ', test_userID.shape)"
      ],
      "execution_count": 47,
      "outputs": [
        {
          "output_type": "stream",
          "text": [
            "Shape of X_train =  (40000, 48)\n",
            "Shape of X_test =  (10000, 48)\n",
            "Shape of train_userID =  (40000,)\n",
            "Shape of test_userID =  (10000,)\n"
          ],
          "name": "stdout"
        }
      ]
    },
    {
      "cell_type": "code",
      "metadata": {
        "colab": {
          "base_uri": "https://localhost:8080/"
        },
        "id": "NDAeTdOm8SFF",
        "outputId": "6e2b096e-0fde-466d-8772-aa9ea1ce99d2"
      },
      "source": [
        "## Feature Scaling Uinsg Standard Scaler \r\n",
        "\r\n",
        "from sklearn.preprocessing import StandardScaler\r\n",
        "\r\n",
        "sc = StandardScaler()\r\n",
        "\r\n",
        "X_train_sc = sc.fit_transform(X_train)\r\n",
        "X_test_sc = sc.transform(X_test)\r\n",
        "\r\n",
        "X_train_sc[:5]"
      ],
      "execution_count": 48,
      "outputs": [
        {
          "output_type": "execute_result",
          "data": {
            "text/plain": [
              "array([[-0.50496081,  1.00083719,  0.02552487, -1.02672599, -0.34683033,\n",
              "         2.18601845,  2.24631904, -1.03921848, -0.64484802, -1.05258054,\n",
              "        -0.68761056, -0.95118973, -0.43460779, -0.85862805, -0.75852577,\n",
              "        -0.71878034, -0.50374724, -0.30336596, -0.22674689, -0.28801788,\n",
              "        -0.2821223 , -0.23414633, -0.23862689, -0.21795486, -0.17819139,\n",
              "        -0.2084056 , -0.22417557,  0.        , -0.21858341, -0.20709612,\n",
              "        -0.15630969, -0.16297945, -0.15538404, -0.18196487, -0.15188889,\n",
              "        -0.17608961, -0.14805468,  3.03596997, -0.11969701, -0.11742023,\n",
              "        -0.1158789 , -0.09120652, -0.08722062, -1.14730266, -0.26087748,\n",
              "        -0.7633719 , -0.28918541,  1.78538924],\n",
              "       [-0.99738931,  1.13528016, -0.89803445,  1.32882912,  2.88325421,\n",
              "        -0.45745268, -0.44517274,  0.96226157,  1.550753  ,  0.95004606,\n",
              "         1.45431159,  1.05131497, -0.43460779,  1.16464865,  1.31834677,\n",
              "         1.39124562,  1.98512253,  3.29634876, -0.22674689, -0.28801788,\n",
              "        -0.2821223 , -0.23414633, -0.23862689, -0.21795486, -0.17819139,\n",
              "        -0.2084056 , -0.22417557,  0.        , -0.21858341, -0.20709612,\n",
              "        -0.15630969, -0.16297945, -0.15538404, -0.18196487, -0.15188889,\n",
              "         5.67892664, -0.14805468, -0.32938402, -0.11969701, -0.11742023,\n",
              "        -0.1158789 , -0.09120652, -0.08722062,  1.83973985, -0.26087748,\n",
              "         0.0575243 , -0.28918541,  0.30979997],\n",
              "       [-1.48981782, -1.15025039, -0.52861072,  4.06636613,  2.88325421,\n",
              "        -0.45745268, -0.44517274, -1.03921848,  1.550753  , -1.05258054,\n",
              "         1.45431159, -0.95118973,  2.30092514, -0.85862805,  1.31834677,\n",
              "         1.39124562,  1.98512253,  3.29634876, -0.22674689, -0.28801788,\n",
              "         3.54456203,  4.27083355, -0.23862689, -0.21795486,  5.61194328,\n",
              "        -0.2084056 , -0.22417557,  0.        , -0.21858341, -0.20709612,\n",
              "        -0.15630969,  6.13574307, -0.15538404, -0.18196487, -0.15188889,\n",
              "        -0.17608961, -0.14805468, -0.32938402, -0.11969701, -0.11742023,\n",
              "        -0.1158789 , -0.09120652, -0.08722062,  1.02509189, -0.26087748,\n",
              "         0.8784205 ,  1.33659341,  1.78538924],\n",
              "       [ 0.4798962 ,  0.05973637, -0.62096665,  0.18288339,  2.88325421,\n",
              "        -0.45745268, -0.44517274,  0.96226157, -0.64484802, -1.05258054,\n",
              "        -0.68761056, -0.95118973, -0.43460779, -0.85862805, -0.75852577,\n",
              "        -0.71878034, -0.50374724, -0.30336596, -0.22674689, -0.28801788,\n",
              "        -0.2821223 , -0.23414633, -0.23862689, -0.21795486, -0.17819139,\n",
              "        -0.2084056 , -0.22417557,  0.        , -0.21858341, -0.20709612,\n",
              "        -0.15630969, -0.16297945, -0.15538404, -0.18196487, -0.15188889,\n",
              "        -0.17608961, -0.14805468, -0.32938402, -0.11969701, -0.11742023,\n",
              "        -0.1158789 , -0.09120652, -0.08722062,  1.02509189, -0.26087748,\n",
              "        -0.7633719 , -0.28918541,  0.30979997],\n",
              "       [-0.01253231,  0.4630653 ,  1.68793165, -0.64474408, -0.34683033,\n",
              "        -0.45745268, -0.44517274,  0.96226157, -0.64484802,  0.95004606,\n",
              "        -0.68761056,  1.05131497, -0.43460779, -0.85862805,  1.31834677,\n",
              "         1.39124562,  1.98512253, -0.30336596, -0.22674689, -0.28801788,\n",
              "        -0.2821223 , -0.23414633, -0.23862689, -0.21795486, -0.17819139,\n",
              "        -0.2084056 , -0.22417557,  0.        , -0.21858341, -0.20709612,\n",
              "        -0.15630969, -0.16297945, -0.15538404, -0.18196487, -0.15188889,\n",
              "        -0.17608961, -0.14805468, -0.32938402, -0.11969701, -0.11742023,\n",
              "        -0.1158789 , -0.09120652, -0.08722062, -0.87575334, -0.26087748,\n",
              "         0.8784205 , -0.28918541, -1.16578931]])"
            ]
          },
          "metadata": {
            "tags": []
          },
          "execution_count": 48
        }
      ]
    },
    {
      "cell_type": "code",
      "metadata": {
        "id": "M7FjhbhA8c2C"
      },
      "source": [
        "## Now the data is scaled  and converted to numpy array \r\n",
        "\r\n",
        "## Let us start building ML Models \r\n",
        "\r\n",
        "from sklearn.metrics import confusion_matrix, classification_report, accuracy_score\r\n",
        "\r\n"
      ],
      "execution_count": 49,
      "outputs": []
    },
    {
      "cell_type": "code",
      "metadata": {
        "colab": {
          "base_uri": "https://localhost:8080/"
        },
        "id": "hFTOYocN807g",
        "outputId": "ab6b1d6c-72f2-4cc0-f9cb-e45f9c86b2e5"
      },
      "source": [
        "## Decission Tree Classifier \r\n",
        "\r\n",
        "from sklearn.tree import DecisionTreeClassifier\r\n",
        "\r\n",
        "dt_model = DecisionTreeClassifier(criterion= 'entropy', random_state=0)\r\n",
        "dt_model.fit(X_train, y_train)\r\n",
        "\r\n",
        "y_pred_dt = dt_model.predict(X_test)\r\n",
        "accuracy_score(y_test, y_pred_dt) ## not Worse . also Not good ."
      ],
      "execution_count": 50,
      "outputs": [
        {
          "output_type": "execute_result",
          "data": {
            "text/plain": [
              "0.6936"
            ]
          },
          "metadata": {
            "tags": []
          },
          "execution_count": 50
        }
      ]
    },
    {
      "cell_type": "code",
      "metadata": {
        "colab": {
          "base_uri": "https://localhost:8080/"
        },
        "id": "lhLJOJuE89Qi",
        "outputId": "f0852017-6582-4621-8788-7021350e4131"
      },
      "source": [
        "dt_model_gini = DecisionTreeClassifier(criterion= 'gini', random_state=0)\r\n",
        "dt_model_gini.fit(X_train, y_train)\r\n",
        "\r\n",
        "y_pred_dt = dt_model_gini.predict(X_test)\r\n",
        "accuracy_score(y_test, y_pred_dt) \r\n",
        "\r\n",
        "## LIttle better than Entropy model but both are same in number. "
      ],
      "execution_count": 51,
      "outputs": [
        {
          "output_type": "execute_result",
          "data": {
            "text/plain": [
              "0.6963"
            ]
          },
          "metadata": {
            "tags": []
          },
          "execution_count": 51
        }
      ]
    },
    {
      "cell_type": "code",
      "metadata": {
        "colab": {
          "base_uri": "https://localhost:8080/"
        },
        "id": "cIJzTFzy9JY9",
        "outputId": "250ebd98-1746-4668-be6e-3bebf31e8615"
      },
      "source": [
        "## With Standard Data \r\n",
        "\r\n",
        "dt_model2 = DecisionTreeClassifier(criterion= 'entropy', random_state=0)\r\n",
        "dt_model2.fit(X_train_sc, y_train)\r\n",
        "\r\n",
        "y_pred_dt_sc = dt_model2.predict(X_test_sc)\r\n",
        "accuracy_score(y_test, y_pred_dt_sc)\r\n",
        "\r\n",
        "## Decision Tree Accuracy is same for both standard and non  standard data . "
      ],
      "execution_count": 52,
      "outputs": [
        {
          "output_type": "execute_result",
          "data": {
            "text/plain": [
              "0.6932"
            ]
          },
          "metadata": {
            "tags": []
          },
          "execution_count": 52
        }
      ]
    },
    {
      "cell_type": "code",
      "metadata": {
        "colab": {
          "base_uri": "https://localhost:8080/"
        },
        "id": "NTccbgXR9YMS",
        "outputId": "ca3e0c2b-1df6-4745-ad56-9c5a5d141e22"
      },
      "source": [
        "## KNN \r\n",
        "\r\n",
        "%time \r\n",
        "\r\n",
        "from sklearn.neighbors import KNeighborsClassifier\r\n",
        "\r\n",
        "knn_model = KNeighborsClassifier(n_neighbors=5, metric='minkowski', p=2,) ## Minkowski with p=2 represents Euclidean \r\n",
        "knn_model.fit(X_train, y_train)\r\n",
        "\r\n",
        "y_pred_knn = knn_model.predict(X_test)\r\n",
        " \r\n",
        "accuracy_score(y_test, y_pred_knn)"
      ],
      "execution_count": 53,
      "outputs": [
        {
          "output_type": "stream",
          "text": [
            "CPU times: user 3 µs, sys: 0 ns, total: 3 µs\n",
            "Wall time: 6.91 µs\n"
          ],
          "name": "stdout"
        },
        {
          "output_type": "execute_result",
          "data": {
            "text/plain": [
              "0.6994"
            ]
          },
          "metadata": {
            "tags": []
          },
          "execution_count": 53
        }
      ]
    },
    {
      "cell_type": "code",
      "metadata": {
        "colab": {
          "base_uri": "https://localhost:8080/"
        },
        "id": "tNEuPVPb9yd2",
        "outputId": "efcd7a7e-9134-4f62-db4a-e179724dfe71"
      },
      "source": [
        "## Just wanted to check time on manhattan \r\n",
        "\r\n",
        "%time\r\n",
        "\r\n",
        "knn_model_1 = KNeighborsClassifier(n_neighbors=5, metric='minkowski', p=1,) ## Minkowski with p=1 represents manhattan \r\n",
        "knn_model_1.fit(X_train, y_train)\r\n",
        "\r\n",
        "y_pred_knn = knn_model_1.predict(X_test)\r\n",
        " \r\n",
        "accuracy_score(y_test, y_pred_knn)\r\n",
        "\r\n",
        "%time"
      ],
      "execution_count": 54,
      "outputs": [
        {
          "output_type": "stream",
          "text": [
            "CPU times: user 2 µs, sys: 0 ns, total: 2 µs\n",
            "Wall time: 4.29 µs\n",
            "CPU times: user 2 µs, sys: 0 ns, total: 2 µs\n",
            "Wall time: 4.29 µs\n"
          ],
          "name": "stdout"
        }
      ]
    },
    {
      "cell_type": "code",
      "metadata": {
        "colab": {
          "base_uri": "https://localhost:8080/"
        },
        "id": "bi7p1zPu-DvV",
        "outputId": "6fa6c2d8-bbc8-4267-d1dd-c5f14f25cf6c"
      },
      "source": [
        "## With Standard Data \r\n",
        "\r\n",
        "%time \r\n",
        "# train with Standert Scaling dataset\r\n",
        "knn_model2 = KNeighborsClassifier(n_neighbors=5, metric='minkowski', p=2,)\r\n",
        "knn_model2.fit(X_train_sc, y_train)\r\n",
        "\r\n",
        "y_pred_knn_sc = knn_model2.predict(X_test_sc)\r\n",
        " \r\n",
        "accuracy_score(y_test, y_pred_knn_sc)"
      ],
      "execution_count": 55,
      "outputs": [
        {
          "output_type": "stream",
          "text": [
            "CPU times: user 1e+03 ns, sys: 0 ns, total: 1e+03 ns\n",
            "Wall time: 3.58 µs\n"
          ],
          "name": "stdout"
        },
        {
          "output_type": "execute_result",
          "data": {
            "text/plain": [
              "0.7314"
            ]
          },
          "metadata": {
            "tags": []
          },
          "execution_count": 55
        }
      ]
    },
    {
      "cell_type": "code",
      "metadata": {
        "id": "7xOfT581-VC-"
      },
      "source": [
        "## KNN is worst model in terms of execution as it takes more time in training if it has more data and features . So please avoid it mostly \r\n"
      ],
      "execution_count": 56,
      "outputs": []
    },
    {
      "cell_type": "code",
      "metadata": {
        "colab": {
          "base_uri": "https://localhost:8080/"
        },
        "id": "J-2PejZ9-ouL",
        "outputId": "92ffab8c-665b-478a-b9bc-3e2cfc97e151"
      },
      "source": [
        "## Naive Bayes Classifier \r\n",
        "\r\n",
        "%time \r\n",
        "\r\n",
        "from sklearn.naive_bayes import GaussianNB\r\n",
        "nb_model = GaussianNB() ## For Numerical Data \r\n",
        "\r\n",
        "nb_model.fit(X_train, y_train)\r\n",
        "y_pred_nb = nb_model.predict(X_test)\r\n",
        " \r\n",
        "accuracy_score(y_test, y_pred_nb)"
      ],
      "execution_count": 57,
      "outputs": [
        {
          "output_type": "stream",
          "text": [
            "CPU times: user 3 µs, sys: 0 ns, total: 3 µs\n",
            "Wall time: 5.96 µs\n"
          ],
          "name": "stdout"
        },
        {
          "output_type": "execute_result",
          "data": {
            "text/plain": [
              "0.7114"
            ]
          },
          "metadata": {
            "tags": []
          },
          "execution_count": 57
        }
      ]
    },
    {
      "cell_type": "code",
      "metadata": {
        "colab": {
          "base_uri": "https://localhost:8080/"
        },
        "id": "rpVdL-8M-wXr",
        "outputId": "f1c9891e-4536-4029-9e1f-0478cd534f8e"
      },
      "source": [
        "# train with Standert Scaling dataset\r\n",
        "\r\n",
        "%time \r\n",
        "\r\n",
        "nb_model2 = GaussianNB()\r\n",
        "nb_model2.fit(X_train_sc, y_train)\r\n",
        "\r\n",
        "y_pred_nb_sc = nb_model2.predict(X_test_sc)\r\n",
        " \r\n",
        "accuracy_score(y_test, y_pred_nb_sc)"
      ],
      "execution_count": 58,
      "outputs": [
        {
          "output_type": "stream",
          "text": [
            "CPU times: user 2 µs, sys: 0 ns, total: 2 µs\n",
            "Wall time: 5.72 µs\n"
          ],
          "name": "stdout"
        },
        {
          "output_type": "execute_result",
          "data": {
            "text/plain": [
              "0.7114"
            ]
          },
          "metadata": {
            "tags": []
          },
          "execution_count": 58
        }
      ]
    },
    {
      "cell_type": "code",
      "metadata": {
        "colab": {
          "base_uri": "https://localhost:8080/"
        },
        "id": "gLupO0is-2VX",
        "outputId": "f5de93f5-97b8-4e20-f32d-88ad528a8397"
      },
      "source": [
        "# Random Forest Classifier\r\n",
        "\r\n",
        "%time \r\n",
        "\r\n",
        "from sklearn.ensemble import RandomForestClassifier\r\n",
        "rf_model = RandomForestClassifier(n_estimators=100, criterion='entropy', random_state=0)\r\n",
        "\r\n",
        "rf_model.fit(X_train, y_train)\r\n",
        "y_pred_rf = rf_model.predict(X_test)\r\n",
        " \r\n",
        "accuracy_score(y_test, y_pred_rf)"
      ],
      "execution_count": 59,
      "outputs": [
        {
          "output_type": "stream",
          "text": [
            "CPU times: user 4 µs, sys: 0 ns, total: 4 µs\n",
            "Wall time: 6.2 µs\n"
          ],
          "name": "stdout"
        },
        {
          "output_type": "execute_result",
          "data": {
            "text/plain": [
              "0.7827"
            ]
          },
          "metadata": {
            "tags": []
          },
          "execution_count": 59
        }
      ]
    },
    {
      "cell_type": "code",
      "metadata": {
        "colab": {
          "base_uri": "https://localhost:8080/"
        },
        "id": "VDHkiKWu-8e9",
        "outputId": "81105361-072a-4f90-e8f0-d93dee409c48"
      },
      "source": [
        "# train with Standert Scaling dataset\r\n",
        "\r\n",
        "%time \r\n",
        "\r\n",
        "rf_model2 = RandomForestClassifier(n_estimators=100, criterion='entropy', random_state=0)\r\n",
        "rf_model2.fit(X_train_sc, y_train)\r\n",
        "\r\n",
        "y_pred_rf_sc = rf_model2.predict(X_test_sc)\r\n",
        " \r\n",
        "accuracy_score(y_test, y_pred_rf_sc)"
      ],
      "execution_count": 60,
      "outputs": [
        {
          "output_type": "stream",
          "text": [
            "CPU times: user 3 µs, sys: 0 ns, total: 3 µs\n",
            "Wall time: 5.96 µs\n"
          ],
          "name": "stdout"
        },
        {
          "output_type": "execute_result",
          "data": {
            "text/plain": [
              "0.7832"
            ]
          },
          "metadata": {
            "tags": []
          },
          "execution_count": 60
        }
      ]
    },
    {
      "cell_type": "code",
      "metadata": {
        "colab": {
          "base_uri": "https://localhost:8080/"
        },
        "id": "omG0B_Zf_Dcu",
        "outputId": "5059121c-3615-4cb0-c33b-9024f3b31356"
      },
      "source": [
        "## Logistic Regression \r\n",
        "\r\n",
        "%time\r\n",
        "from sklearn.linear_model import LogisticRegression\r\n",
        "\r\n",
        "lr_model = LogisticRegression(random_state = 0, penalty = 'l2')\r\n",
        "lr_model.fit(X_train, y_train)\r\n",
        "\r\n",
        "y_pred_lr = lr_model.predict(X_test)\r\n",
        " \r\n",
        "accuracy_score(y_test, y_pred_lr)"
      ],
      "execution_count": 61,
      "outputs": [
        {
          "output_type": "stream",
          "text": [
            "CPU times: user 3 µs, sys: 0 ns, total: 3 µs\n",
            "Wall time: 5.48 µs\n"
          ],
          "name": "stdout"
        },
        {
          "output_type": "stream",
          "text": [
            "/usr/local/lib/python3.6/dist-packages/sklearn/linear_model/_logistic.py:940: ConvergenceWarning: lbfgs failed to converge (status=1):\n",
            "STOP: TOTAL NO. of ITERATIONS REACHED LIMIT.\n",
            "\n",
            "Increase the number of iterations (max_iter) or scale the data as shown in:\n",
            "    https://scikit-learn.org/stable/modules/preprocessing.html\n",
            "Please also refer to the documentation for alternative solver options:\n",
            "    https://scikit-learn.org/stable/modules/linear_model.html#logistic-regression\n",
            "  extra_warning_msg=_LOGISTIC_SOLVER_CONVERGENCE_MSG)\n"
          ],
          "name": "stderr"
        },
        {
          "output_type": "execute_result",
          "data": {
            "text/plain": [
              "0.7686"
            ]
          },
          "metadata": {
            "tags": []
          },
          "execution_count": 61
        }
      ]
    },
    {
      "cell_type": "code",
      "metadata": {
        "colab": {
          "base_uri": "https://localhost:8080/"
        },
        "id": "zy9gLrOx_K_V",
        "outputId": "0a541669-dd40-45ea-848b-6ba4c704d0ba"
      },
      "source": [
        "# train with Standert Scaling dataset\r\n",
        "\r\n",
        "%time \r\n",
        "\r\n",
        "lr_model2 = LogisticRegression(random_state = 0, penalty = 'l2')\r\n",
        "lr_model2.fit(X_train_sc, y_train)\r\n",
        "\r\n",
        "y_pred_lr_sc = lr_model2.predict(X_test_sc)\r\n",
        " \r\n",
        "accuracy_score(y_test, y_pred_lr_sc)"
      ],
      "execution_count": 62,
      "outputs": [
        {
          "output_type": "stream",
          "text": [
            "CPU times: user 3 µs, sys: 0 ns, total: 3 µs\n",
            "Wall time: 5.72 µs\n"
          ],
          "name": "stdout"
        },
        {
          "output_type": "execute_result",
          "data": {
            "text/plain": [
              "0.768"
            ]
          },
          "metadata": {
            "tags": []
          },
          "execution_count": 62
        }
      ]
    },
    {
      "cell_type": "code",
      "metadata": {
        "colab": {
          "base_uri": "https://localhost:8080/"
        },
        "id": "IzEgRStF_Xte",
        "outputId": "7c37c126-b1fd-4cc2-d4cf-dc60c63414ce"
      },
      "source": [
        "# Support Vector Machine\r\n",
        "\r\n",
        "%time \r\n",
        "\r\n",
        "from sklearn.svm import SVC\r\n",
        "svc_model = SVC()\r\n",
        "\r\n",
        "svc_model.fit(X_train, y_train)\r\n",
        "y_pred_svc = svc_model.predict(X_test)\r\n",
        " \r\n",
        "accuracy_score(y_test, y_pred_svc)"
      ],
      "execution_count": 63,
      "outputs": [
        {
          "output_type": "stream",
          "text": [
            "CPU times: user 3 µs, sys: 0 ns, total: 3 µs\n",
            "Wall time: 6.2 µs\n"
          ],
          "name": "stdout"
        },
        {
          "output_type": "execute_result",
          "data": {
            "text/plain": [
              "0.7609"
            ]
          },
          "metadata": {
            "tags": []
          },
          "execution_count": 63
        }
      ]
    },
    {
      "cell_type": "code",
      "metadata": {
        "colab": {
          "base_uri": "https://localhost:8080/"
        },
        "id": "bqPVjtxA_cIa",
        "outputId": "0b730e82-8bbb-4814-ce73-7f903f00af50"
      },
      "source": [
        "## Support Vectors also take much time in identifying support vectors. \r\n",
        "\r\n",
        "# train with Standert Scaling dataset\r\n",
        "\r\n",
        "%time \r\n",
        "\r\n",
        "svc_model2 = SVC()\r\n",
        "svc_model2.fit(X_train_sc, y_train)\r\n",
        "\r\n",
        "y_pred_svc_sc = svc_model2.predict(X_test_sc)\r\n",
        " \r\n",
        "accuracy_score(y_test, y_pred_svc_sc)"
      ],
      "execution_count": 64,
      "outputs": [
        {
          "output_type": "stream",
          "text": [
            "CPU times: user 3 µs, sys: 0 ns, total: 3 µs\n",
            "Wall time: 6.44 µs\n"
          ],
          "name": "stdout"
        },
        {
          "output_type": "execute_result",
          "data": {
            "text/plain": [
              "0.7789"
            ]
          },
          "metadata": {
            "tags": []
          },
          "execution_count": 64
        }
      ]
    },
    {
      "cell_type": "code",
      "metadata": {
        "colab": {
          "base_uri": "https://localhost:8080/"
        },
        "id": "XaB7rJyBAKtH",
        "outputId": "9cb7fc74-04fa-48cd-bb64-e51790b11b94"
      },
      "source": [
        "# XGBoost Classifier\r\n",
        "\r\n",
        "%time \r\n",
        "from xgboost import XGBClassifier\r\n",
        "\r\n",
        "xgb_model = XGBClassifier()\r\n",
        "xgb_model.fit(X_train, y_train)\r\n",
        "\r\n",
        "y_pred_xgb = xgb_model.predict(X_test)\r\n",
        "accuracy_score(y_test, y_pred_xgb)"
      ],
      "execution_count": 65,
      "outputs": [
        {
          "output_type": "stream",
          "text": [
            "CPU times: user 3 µs, sys: 0 ns, total: 3 µs\n",
            "Wall time: 6.68 µs\n"
          ],
          "name": "stdout"
        },
        {
          "output_type": "execute_result",
          "data": {
            "text/plain": [
              "0.7748"
            ]
          },
          "metadata": {
            "tags": []
          },
          "execution_count": 65
        }
      ]
    },
    {
      "cell_type": "code",
      "metadata": {
        "colab": {
          "base_uri": "https://localhost:8080/"
        },
        "id": "eRz6pjKyAaH1",
        "outputId": "eb45ddd0-ebdf-4712-8ef6-4419d00af9cd"
      },
      "source": [
        "# train with Standert Scaling dataset\r\n",
        "\r\n",
        "%time \r\n",
        "xgb_model2 = XGBClassifier()\r\n",
        "xgb_model2.fit(X_train_sc, y_train)\r\n",
        "\r\n",
        "y_pred_xgb_sc = xgb_model2.predict(X_test_sc)\r\n",
        " \r\n",
        "accuracy_score(y_test, y_pred_xgb_sc)"
      ],
      "execution_count": 66,
      "outputs": [
        {
          "output_type": "stream",
          "text": [
            "CPU times: user 4 µs, sys: 0 ns, total: 4 µs\n",
            "Wall time: 6.2 µs\n"
          ],
          "name": "stdout"
        },
        {
          "output_type": "execute_result",
          "data": {
            "text/plain": [
              "0.7748"
            ]
          },
          "metadata": {
            "tags": []
          },
          "execution_count": 66
        }
      ]
    },
    {
      "cell_type": "code",
      "metadata": {
        "colab": {
          "base_uri": "https://localhost:8080/"
        },
        "id": "lrKB4Wt1AeMq",
        "outputId": "8758667c-01b9-41a9-f7b5-bab559fa0d89"
      },
      "source": [
        "\r\n",
        "\r\n",
        "# XGB classifier with parameter tuning\r\n",
        "xgb_model_pt1 = XGBClassifier(\r\n",
        " learning_rate =0.01,\r\n",
        " n_estimators=5000,\r\n",
        " max_depth=4,\r\n",
        " min_child_weight=6,\r\n",
        " gamma=0,\r\n",
        " subsample=0.8,\r\n",
        " colsample_bytree=0.8,\r\n",
        " reg_alpha=0.005,\r\n",
        " objective= 'binary:logistic',\r\n",
        " nthread=4,\r\n",
        " scale_pos_weight=1,\r\n",
        " seed=27)\r\n",
        " \r\n",
        "xgb_model_pt1.fit(X_train, y_train)\r\n",
        "y_pred_xgb_pt1 = xgb_model_pt1.predict(X_test)\r\n",
        " \r\n",
        "accuracy_score(y_test, y_pred_xgb_pt1)\r\n",
        "\r\n"
      ],
      "execution_count": 67,
      "outputs": [
        {
          "output_type": "execute_result",
          "data": {
            "text/plain": [
              "0.7887"
            ]
          },
          "metadata": {
            "tags": []
          },
          "execution_count": 67
        }
      ]
    },
    {
      "cell_type": "code",
      "metadata": {
        "colab": {
          "base_uri": "https://localhost:8080/"
        },
        "id": "nTtWrK9-A6yZ",
        "outputId": "89d00345-bb95-40a1-d371-c9f853235db0"
      },
      "source": [
        "# XGB classifier with parameter tuning\r\n",
        "\r\n",
        "# train with Stander Scaling dataset\r\n",
        "\r\n",
        "xgb_model_pt2 = XGBClassifier(\r\n",
        " learning_rate =0.01,\r\n",
        " n_estimators=5000,\r\n",
        " max_depth=4,\r\n",
        " min_child_weight=6,\r\n",
        " gamma=0,\r\n",
        " subsample=0.8,\r\n",
        " colsample_bytree=0.8,\r\n",
        " reg_alpha=0.005,\r\n",
        " objective= 'binary:logistic',\r\n",
        " nthread=4,\r\n",
        " scale_pos_weight=1,\r\n",
        " seed=27)\r\n",
        " \r\n",
        "xgb_model_pt2.fit(X_train_sc, y_train)\r\n",
        "y_pred_xgb_sc_pt2 = xgb_model_pt2.predict(X_test_sc)\r\n",
        " \r\n",
        "accuracy_score(y_test, y_pred_xgb_sc_pt2)"
      ],
      "execution_count": 68,
      "outputs": [
        {
          "output_type": "execute_result",
          "data": {
            "text/plain": [
              "0.7887"
            ]
          },
          "metadata": {
            "tags": []
          },
          "execution_count": 68
        }
      ]
    },
    {
      "cell_type": "code",
      "metadata": {
        "colab": {
          "base_uri": "https://localhost:8080/",
          "height": 306
        },
        "id": "vxOTxH-1A9py",
        "outputId": "a5e53f52-7495-4b3e-8711-da237ea03ea7"
      },
      "source": [
        "## SVM, XGBoost and RandomForest (100 estimators ) gave accuracy around 77%. \r\n",
        "## SVM took too much time on training data \r\n",
        "\r\n",
        "## Let us plot confusion matrix on xgboost model \r\n",
        "\r\n",
        "cm_xgb_pt2 = confusion_matrix(y_test, y_pred_xgb_sc_pt2)\r\n",
        "sns.heatmap(cm_xgb_pt2, annot = True, fmt = 'g')\r\n",
        "plt.title(\"Confussion Matrix\", fontsize = 20) \r\n",
        "\r\n"
      ],
      "execution_count": 69,
      "outputs": [
        {
          "output_type": "execute_result",
          "data": {
            "text/plain": [
              "Text(0.5, 1.0, 'Confussion Matrix')"
            ]
          },
          "metadata": {
            "tags": []
          },
          "execution_count": 69
        },
        {
          "output_type": "display_data",
          "data": {
            "image/png": "[encoded data removed]",
            "text/plain": [
              "<Figure size 432x288 with 2 Axes>"
            ]
          },
          "metadata": {
            "tags": []
          }
        }
      ]
    },
    {
      "cell_type": "code",
      "metadata": {
        "colab": {
          "base_uri": "https://localhost:8080/"
        },
        "id": "b3CjFpqvBXon",
        "outputId": "77fb3577-1553-4191-e70e-9aeacf0509e7"
      },
      "source": [
        "## The model is giving type II error higher than type I. \r\n",
        "\r\n",
        "## Classification Report \r\n",
        "\r\n",
        "cr_xgb_pt2 = classification_report (y_test, y_pred_xgb_sc_pt2)\r\n",
        "\r\n",
        "print (cr_xgb_pt2)"
      ],
      "execution_count": 70,
      "outputs": [
        {
          "output_type": "stream",
          "text": [
            "              precision    recall  f1-score   support\n",
            "\n",
            "           0       0.78      0.82      0.80      5072\n",
            "           1       0.80      0.76      0.78      4928\n",
            "\n",
            "    accuracy                           0.79     10000\n",
            "   macro avg       0.79      0.79      0.79     10000\n",
            "weighted avg       0.79      0.79      0.79     10000\n",
            "\n"
          ],
          "name": "stdout"
        }
      ]
    },
    {
      "cell_type": "code",
      "metadata": {
        "colab": {
          "base_uri": "https://localhost:8080/"
        },
        "id": "muzVjjdwB1jG",
        "outputId": "58903154-7d4f-4100-b23d-be4b2f6960b0"
      },
      "source": [
        "## Cross Validation of ML Model \r\n",
        "\r\n",
        "from sklearn.model_selection import cross_val_score \r\n",
        "\r\n",
        "cross_validation = cross_val_score (estimator=xgb_model_pt2, X=X_train_sc, y=y_train, cv=10, verbose=1)\r\n",
        "\r\n",
        "print(\"Cross validation of XGBoost model = \",cross_validation)\r\n",
        "print(\"Cross validation of XGBoost model (in mean) = \",cross_validation.mean())"
      ],
      "execution_count": 71,
      "outputs": [
        {
          "output_type": "stream",
          "text": [
            "[Parallel(n_jobs=1)]: Using backend SequentialBackend with 1 concurrent workers.\n"
          ],
          "name": "stderr"
        },
        {
          "output_type": "stream",
          "text": [
            "Cross validation of XGBoost model =  [0.79125 0.77975 0.791   0.786   0.78025 0.786   0.79225 0.78225 0.79025\n",
            " 0.7785 ]\n",
            "Cross validation of XGBoost model (in mean) =  0.7857500000000001\n"
          ],
          "name": "stdout"
        },
        {
          "output_type": "stream",
          "text": [
            "[Parallel(n_jobs=1)]: Done  10 out of  10 | elapsed: 29.5min finished\n"
          ],
          "name": "stderr"
        }
      ]
    },
    {
      "cell_type": "code",
      "metadata": {
        "id": "de33HCPXCRXv"
      },
      "source": [
        "## Mapping Predicted ouput to target for \r\n",
        "\r\n",
        "# final_result = pd.concat([test_userID, y_test], axis=1)\r\n",
        "# final_result['predicted_result'] = y_pred_xgb_sc_pt2\r\n",
        "\r\n",
        "# print (final_result)"
      ],
      "execution_count": 72,
      "outputs": []
    },
    {
      "cell_type": "code",
      "metadata": {
        "id": "odJRK3yECrWo",
        "colab": {
          "base_uri": "https://localhost:8080/"
        },
        "outputId": "171cbe92-4c7b-4302-fb1a-d43284e1c038"
      },
      "source": [
        "## Saving Model \r\n",
        "\r\n",
        "import pickle \r\n",
        "\r\n",
        "## Dump Model \r\n",
        "\r\n",
        "pickle.dump(xgb_model_pt2, open('/content/FineTech_App_Model_XGB.pkl', 'wb'))\r\n",
        "\r\n",
        "## Load Model \r\n",
        "mdl = pickle.load(open('/content/FineTech_App_Model_XGB.pkl', 'rb'))\r\n",
        "\r\n",
        "# predict the output\r\n",
        "y_pred_pl = mdl.predict(X_test_sc)\r\n",
        "\r\n",
        "\r\n",
        "# confusion matrix\r\n",
        "cm_pl = confusion_matrix(y_test, y_pred_pl)\r\n",
        "print('Confussion matrix = \\n', cm_pl)\r\n",
        "\r\n",
        "# show the accuracy\r\n",
        "print(\"Accuracy of model = \",accuracy_score(y_test, y_pred_pl))\r\n"
      ],
      "execution_count": 74,
      "outputs": [
        {
          "output_type": "stream",
          "text": [
            "Confussion matrix = \n",
            " [[4156  916]\n",
            " [1197 3731]]\n",
            "Accuracy of model =  0.7887\n"
          ],
          "name": "stdout"
        }
      ]
    },
    {
      "cell_type": "code",
      "metadata": {
        "id": "erVRv-1ZDOJX",
        "colab": {
          "base_uri": "https://localhost:8080/"
        },
        "outputId": "9e79b532-7b13-44a0-f7e9-746f3a6d4078"
      },
      "source": [
        "## Save Model Using Joblib \r\n",
        "\r\n",
        "from sklearn.externals import joblib \r\n",
        "\r\n",
        "## Dump Model \r\n",
        "joblib.dump(xgb_model_pt2, '/content/FineTech_app_ML_model_xgb.joblib')\r\n",
        "\r\n",
        "\r\n",
        "## Load Model \r\n",
        "ml_model_jl = joblib.load('/content/FineTech_app_ML_model_xgb.joblib')\r\n",
        "\r\n",
        "\r\n",
        "# predict the output \r\n",
        "y_pred_jl = ml_model_jl.predict(X_test_sc)\r\n",
        " \r\n",
        "cm_jl = confusion_matrix(y_test, y_pred_jl)\r\n",
        "print('Confussion matrix = \\n', cm_jl)\r\n",
        " \r\n",
        "print(\"Accuracy of model = \", accuracy_score(y_test, y_pred_jl))"
      ],
      "execution_count": 76,
      "outputs": [
        {
          "output_type": "stream",
          "text": [
            "Confussion matrix = \n",
            " [[4156  916]\n",
            " [1197 3731]]\n",
            "Accuracy of model =  0.7887\n"
          ],
          "name": "stdout"
        }
      ]
    },
    {
      "cell_type": "code",
      "metadata": {
        "id": "wwAveLpQEDzO",
        "colab": {
          "base_uri": "https://localhost:8080/",
          "height": 52
        },
        "outputId": "669f6558-c1e0-4d49-ee65-f3d595bd0880"
      },
      "source": [
        "### Final Conclusion \r\n",
        "\r\n",
        "'''\r\n",
        "\r\n",
        "To get more accuracy, we train all supervised classification algorithms\r\n",
        "After training all algorithms, SVC and XGBoost classifiers are given high accuracy than remain\r\n",
        "\r\n",
        "\r\n",
        "'''\r\n",
        "\r\n",
        "\r\n"
      ],
      "execution_count": 77,
      "outputs": [
        {
          "output_type": "execute_result",
          "data": {
            "application/vnd.google.colaboratory.intrinsic+json": {
              "type": "string"
            },
            "text/plain": [
              "'\\n\\nTo get more accuracy, we train all supervised classification algorithms\\nAfter training all algorithms, SVC and XGBoost classifiers are given high accuracy than remain\\n\\n\\n'"
            ]
          },
          "metadata": {
            "tags": []
          },
          "execution_count": 77
        }
      ]
    },
    {
      "cell_type": "code",
      "metadata": {
        "id": "e6DkpxZJEX2g"
      },
      "source": [
        ""
      ],
      "execution_count": null,
      "outputs": []
    }
  ]
}